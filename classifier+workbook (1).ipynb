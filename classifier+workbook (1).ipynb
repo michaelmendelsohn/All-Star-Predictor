{
 "cells": [
  {
   "cell_type": "markdown",
   "metadata": {},
   "source": [
    "# All-Star Classifier\n",
    "### Project Question: \n",
    "Using data scraped from the basketball reference from the 17-18 NBA season, can we accurately classify whether a player is an all-star?\n",
    "### Goals:\n",
    "- Scrape a valid and clean data frame from basketball reference\n",
    "- Investigate each core variable, understand relationships, and check whether new variables can be created\n",
    "- Compare across industry standard classification techniques, and tune an appropriate model for classification"
   ]
  },
  {
   "cell_type": "code",
   "execution_count": 1,
   "metadata": {
    "collapsed": true
   },
   "outputs": [],
   "source": [
    "import numpy as np\n",
    "import pandas as pd\n",
    "from bs4 import BeautifulSoup, SoupStrainer\n",
    "from collections import OrderedDict\n",
    "import requests\n",
    "np.random.seed()"
   ]
  },
  {
   "cell_type": "markdown",
   "metadata": {},
   "source": [
    "### Web Scraping \n",
    "Using the python package BeautifulSoup, we can scrape data directly from [www.basketballl-refence.com](www.basketballl-refence.com), and place the data into a pandas DataFrame."
   ]
  },
  {
   "cell_type": "code",
   "execution_count": 2,
   "metadata": {
    "collapsed": true
   },
   "outputs": [],
   "source": [
    "\n",
    "def gather_data(url):\n",
    "    season = []\n",
    "    page_req = requests.get(url)\n",
    "    soup = BeautifulSoup(page_req.text, 'lxml')#'lmxl' tells you how to parse \n",
    "    table = soup.find('table')\n",
    "    table_body = table.find('tbody')\n",
    "    rows =table_body.findAll('tr')# find all rows of data table\n",
    "    season=[]\n",
    "    fields = ['Player','Pos','Age','Tm','G','GS','MP','FG','FGA','FG%','3P','3PA','3P%','2P','2PA','2P%','eFG%','FT','FTA','FT%','ORB','DRB','TRB','AST','STL','BLK','TOV','PF','PS/G']\n",
    "    #2P = 2 pointers made, 2PA = 2 pointers Attempted, @P% = 2-Pointer percentage etc.\n",
    "    #Pos = position, TM = team, ORB = Offensive Rebound, DRB = Defensive Rebound, \n",
    "    #eFG% = effective Field Goal % (positively weights 3 pointers made)\n",
    "    for row in rows:\n",
    "        cell = row.findAll('td')\n",
    "        if cell:\n",
    "            cell = [c.text for c in cell]\n",
    "            entry = OrderedDict(zip(fields, cell))\n",
    "            season.append(entry)\n",
    "    return pd.DataFrame(season)"
   ]
  },
  {
   "cell_type": "code",
   "execution_count": 3,
   "metadata": {},
   "outputs": [
    {
     "data": {
      "text/html": [
       "<div>\n",
       "<style>\n",
       "    .dataframe thead tr:only-child th {\n",
       "        text-align: right;\n",
       "    }\n",
       "\n",
       "    .dataframe thead th {\n",
       "        text-align: left;\n",
       "    }\n",
       "\n",
       "    .dataframe tbody tr th {\n",
       "        vertical-align: top;\n",
       "    }\n",
       "</style>\n",
       "<table border=\"1\" class=\"dataframe\">\n",
       "  <thead>\n",
       "    <tr style=\"text-align: right;\">\n",
       "      <th></th>\n",
       "      <th>Player</th>\n",
       "      <th>Pos</th>\n",
       "      <th>Age</th>\n",
       "      <th>Tm</th>\n",
       "      <th>G</th>\n",
       "      <th>GS</th>\n",
       "      <th>MP</th>\n",
       "      <th>FG</th>\n",
       "      <th>FGA</th>\n",
       "      <th>FG%</th>\n",
       "      <th>...</th>\n",
       "      <th>FT%</th>\n",
       "      <th>ORB</th>\n",
       "      <th>DRB</th>\n",
       "      <th>TRB</th>\n",
       "      <th>AST</th>\n",
       "      <th>STL</th>\n",
       "      <th>BLK</th>\n",
       "      <th>TOV</th>\n",
       "      <th>PF</th>\n",
       "      <th>PS/G</th>\n",
       "    </tr>\n",
       "  </thead>\n",
       "  <tbody>\n",
       "    <tr>\n",
       "      <th>0</th>\n",
       "      <td>Alex Abrines</td>\n",
       "      <td>SG</td>\n",
       "      <td>24</td>\n",
       "      <td>OKC</td>\n",
       "      <td>75</td>\n",
       "      <td>8</td>\n",
       "      <td>15.1</td>\n",
       "      <td>1.5</td>\n",
       "      <td>3.9</td>\n",
       "      <td>.395</td>\n",
       "      <td>...</td>\n",
       "      <td>.848</td>\n",
       "      <td>0.3</td>\n",
       "      <td>1.2</td>\n",
       "      <td>1.5</td>\n",
       "      <td>0.4</td>\n",
       "      <td>0.5</td>\n",
       "      <td>0.1</td>\n",
       "      <td>0.3</td>\n",
       "      <td>1.7</td>\n",
       "      <td>4.7</td>\n",
       "    </tr>\n",
       "    <tr>\n",
       "      <th>1</th>\n",
       "      <td>Quincy Acy</td>\n",
       "      <td>PF</td>\n",
       "      <td>27</td>\n",
       "      <td>BRK</td>\n",
       "      <td>70</td>\n",
       "      <td>8</td>\n",
       "      <td>19.4</td>\n",
       "      <td>1.9</td>\n",
       "      <td>5.2</td>\n",
       "      <td>.356</td>\n",
       "      <td>...</td>\n",
       "      <td>.817</td>\n",
       "      <td>0.6</td>\n",
       "      <td>3.1</td>\n",
       "      <td>3.7</td>\n",
       "      <td>0.8</td>\n",
       "      <td>0.5</td>\n",
       "      <td>0.4</td>\n",
       "      <td>0.9</td>\n",
       "      <td>2.1</td>\n",
       "      <td>5.9</td>\n",
       "    </tr>\n",
       "    <tr>\n",
       "      <th>2</th>\n",
       "      <td>Steven Adams</td>\n",
       "      <td>C</td>\n",
       "      <td>24</td>\n",
       "      <td>OKC</td>\n",
       "      <td>76</td>\n",
       "      <td>76</td>\n",
       "      <td>32.7</td>\n",
       "      <td>5.9</td>\n",
       "      <td>9.4</td>\n",
       "      <td>.629</td>\n",
       "      <td>...</td>\n",
       "      <td>.559</td>\n",
       "      <td>5.1</td>\n",
       "      <td>4.0</td>\n",
       "      <td>9.0</td>\n",
       "      <td>1.2</td>\n",
       "      <td>1.2</td>\n",
       "      <td>1.0</td>\n",
       "      <td>1.7</td>\n",
       "      <td>2.8</td>\n",
       "      <td>13.9</td>\n",
       "    </tr>\n",
       "    <tr>\n",
       "      <th>3</th>\n",
       "      <td>Bam Adebayo</td>\n",
       "      <td>C</td>\n",
       "      <td>20</td>\n",
       "      <td>MIA</td>\n",
       "      <td>69</td>\n",
       "      <td>19</td>\n",
       "      <td>19.8</td>\n",
       "      <td>2.5</td>\n",
       "      <td>4.9</td>\n",
       "      <td>.512</td>\n",
       "      <td>...</td>\n",
       "      <td>.721</td>\n",
       "      <td>1.7</td>\n",
       "      <td>3.8</td>\n",
       "      <td>5.5</td>\n",
       "      <td>1.5</td>\n",
       "      <td>0.5</td>\n",
       "      <td>0.6</td>\n",
       "      <td>1.0</td>\n",
       "      <td>2.0</td>\n",
       "      <td>6.9</td>\n",
       "    </tr>\n",
       "    <tr>\n",
       "      <th>4</th>\n",
       "      <td>Arron Afflalo</td>\n",
       "      <td>SG</td>\n",
       "      <td>32</td>\n",
       "      <td>ORL</td>\n",
       "      <td>53</td>\n",
       "      <td>3</td>\n",
       "      <td>12.9</td>\n",
       "      <td>1.2</td>\n",
       "      <td>3.1</td>\n",
       "      <td>.401</td>\n",
       "      <td>...</td>\n",
       "      <td>.846</td>\n",
       "      <td>0.1</td>\n",
       "      <td>1.2</td>\n",
       "      <td>1.2</td>\n",
       "      <td>0.6</td>\n",
       "      <td>0.1</td>\n",
       "      <td>0.2</td>\n",
       "      <td>0.4</td>\n",
       "      <td>1.1</td>\n",
       "      <td>3.4</td>\n",
       "    </tr>\n",
       "  </tbody>\n",
       "</table>\n",
       "<p>5 rows × 29 columns</p>\n",
       "</div>"
      ],
      "text/plain": [
       "          Player Pos Age   Tm   G  GS    MP   FG  FGA   FG%  ...    FT%  ORB  \\\n",
       "0   Alex Abrines  SG  24  OKC  75   8  15.1  1.5  3.9  .395  ...   .848  0.3   \n",
       "1     Quincy Acy  PF  27  BRK  70   8  19.4  1.9  5.2  .356  ...   .817  0.6   \n",
       "2   Steven Adams   C  24  OKC  76  76  32.7  5.9  9.4  .629  ...   .559  5.1   \n",
       "3    Bam Adebayo   C  20  MIA  69  19  19.8  2.5  4.9  .512  ...   .721  1.7   \n",
       "4  Arron Afflalo  SG  32  ORL  53   3  12.9  1.2  3.1  .401  ...   .846  0.1   \n",
       "\n",
       "   DRB  TRB  AST  STL  BLK  TOV   PF  PS/G  \n",
       "0  1.2  1.5  0.4  0.5  0.1  0.3  1.7   4.7  \n",
       "1  3.1  3.7  0.8  0.5  0.4  0.9  2.1   5.9  \n",
       "2  4.0  9.0  1.2  1.2  1.0  1.7  2.8  13.9  \n",
       "3  3.8  5.5  1.5  0.5  0.6  1.0  2.0   6.9  \n",
       "4  1.2  1.2  0.6  0.1  0.2  0.4  1.1   3.4  \n",
       "\n",
       "[5 rows x 29 columns]"
      ]
     },
     "execution_count": 3,
     "metadata": {},
     "output_type": "execute_result"
    }
   ],
   "source": [
    "df=gather_data('https://www.basketball-reference.com/leagues/NBA_2018_per_game.html')\n",
    "df.head()"
   ]
  },
  {
   "cell_type": "markdown",
   "metadata": {
    "collapsed": true
   },
   "source": [
    "### Data Cleaning\n",
    "Some of the data must be adjusted in order for our Logistic Regression to work.\n",
    "\n",
    " - Players who have been traded, or played on multiple teams for any reason will have a row for their stats with each team, as well as a row with their season total. We are only interested in total row, and will remove the others from the DataFrame.\n",
    "\n",
    " - If a player has, for example, taken 0 3 pointers, their 3PFG% will be represented as an empty string \"\". We will change these to 0."
   ]
  },
  {
   "cell_type": "code",
   "execution_count": 4,
   "metadata": {
    "collapsed": true
   },
   "outputs": [],
   "source": [
    "#players who have been traded have a row for each team, + a total row. We only want the total\n",
    "def prepareDF(df):\n",
    "    traded_players = list(df[df.Tm == 'TOT'].Player)\n",
    "    traded=list(df[df.Tm=='TOT'].Player)\n",
    "    indices=[]\n",
    "    for i,row in df.iterrows():\n",
    "        if row.Player in traded and row.Tm != 'TOT':\n",
    "            indices.append(i)\n",
    "            #print \"ds\"\n",
    "    # reset indices\n",
    "    newDF=df.drop(indices)\n",
    "    newDF=newDF.reset_index(drop=True)\n",
    "    newDF=newDF.replace(\"\",0) #replaces empty stats with 0\n",
    "    return newDF"
   ]
  },
  {
   "cell_type": "code",
   "execution_count": 5,
   "metadata": {
    "collapsed": true
   },
   "outputs": [],
   "source": [
    "originalData=prepareDF(df)"
   ]
  },
  {
   "cell_type": "markdown",
   "metadata": {
    "collapsed": true,
    "scrolled": false
   },
   "source": [
    "### Choosing Parameters\n",
    "One of the benefits of creating many models on 2017-2018 season is we can find which combination of parameters is the most accurate. Here we drop the unwanted columns.\n",
    "\n",
    " - Drop Offensive Rebounds and Defensive Rebounds to to their collinearity with Rebounds.\n",
    " - Drop Player, Team, and Position because they are strings.\n",
    " - Drop Games, Games Started, and Age because their values did not seem to impact the accuracy beneficially. CHANGE MAYBE or Add Code"
   ]
  },
  {
   "cell_type": "code",
   "execution_count": 6,
   "metadata": {
    "collapsed": true
   },
   "outputs": [],
   "source": [
    "finalData=originalData.drop(['Player','MP','Tm', 'ORB','DRB','Age','G','GS','Pos'],axis=1)  "
   ]
  },
  {
   "cell_type": "markdown",
   "metadata": {},
   "source": [
    "### Create a List of All-Star Flags\n",
    "\n",
    " - Compile a list of the All-Stars for the 2017-2018 season manually. \n",
    " - Create a list named _ASFlag_ indicating True or False foreach respective index of _orignalData_\n",
    " \n",
    "This needs to be a separate list, and not part of the DataFrame for the Logistic Regression function to run properly"
   ]
  },
  {
   "cell_type": "code",
   "execution_count": 7,
   "metadata": {
    "collapsed": true
   },
   "outputs": [],
   "source": [
    "#create list of True/False to mark all-stars to use in training data\n",
    "all_stars = [\n",
    "    'LeBron James','Kevin Durant','Anthony Davis',\n",
    "    'Kyrie Irving','DeMarcus Cousins','LaMarcus Aldridge',\n",
    "    'Bradley Beal','Goran Dragic','Andre Drummond','Paul George',\n",
    "    'Victor Oladipo','Kemba Walker','Russell Westbrook','Kevin Love',\n",
    "    'Kristaps Porzingis','John Wall','Stephen Curry','James Harden',\n",
    "    'DeMar DeRozan','Giannis Antetokounmpo','Joel Embiid','Jimmy Butler',\n",
    "    'Draymond Green','Al Horford','Damian Lillard','Kyle Lowry',\n",
    "    'Klay Thompson','Karl-Anthony Towns'\n",
    "]\n",
    "#want all stars as separate list for regression\n",
    "ASFlag=[]\n",
    "for name in originalData.Player:\n",
    "    if name in all_stars:\n",
    "        ASFlag.append(True)\n",
    "    else:\n",
    "        ASFlag.append(False)"
   ]
  },
  {
   "cell_type": "markdown",
   "metadata": {},
   "source": [
    "### Logistic Regression \n",
    "Now that all of your data is prepared, we are ready to train a model.\n",
    " - Import the Logistic Regression function from scikit-learn\n",
    " - Create relevent helper functions to better describe and display data\n",
    " - Design a function to split _finalData_ into training sets and testing sets to train and test our model using an 80/20 split\n",
    " - Determine accuracy and viability of the model"
   ]
  },
  {
   "cell_type": "code",
   "execution_count": 8,
   "metadata": {
    "collapsed": true,
    "scrolled": true
   },
   "outputs": [],
   "source": [
    "from sklearn.linear_model import LogisticRegression"
   ]
  },
  {
   "cell_type": "code",
   "execution_count": 9,
   "metadata": {
    "collapsed": true
   },
   "outputs": [],
   "source": [
    "# declares an incorrect prediction as False Positive, if a non-Allstar is marked as an All-Star,\n",
    "#or Missed AllStar, if an Allstar is classified as a non-Allstar\n",
    "def resType(pred,data):\n",
    "    if pred==True and data==False:\n",
    "        return \" - False Positive\"\n",
    "    else :\n",
    "        return \" - Missed AllStar\"\n",
    "#Allows the function orsted to sort a list of tuples by 2nd item of the tuple\n",
    "def getKey(item):\n",
    "    return item[1]"
   ]
  },
  {
   "cell_type": "code",
   "execution_count": 10,
   "metadata": {
    "collapsed": true
   },
   "outputs": [],
   "source": [
    "#@param df is the data with duplicates removed, and the appropriate columns dropped (player names, etc.)\n",
    "#@param original_df is the data with duplicates removed returned from prepareDF\n",
    "#@param displayOutcome determines whether or not thee function should print out descriptions of how the model performed \n",
    "def classify(df, original_df=originalData, displayOutcome=True):\n",
    "    msk = np.random.rand(len(df)) < 0.8\n",
    "    testing_flags = [ASFlag[i] for i in xrange(len(ASFlag)) if not msk[i]]\n",
    "    numAllStars = sum(testing_flags)\n",
    "    #training set should have at least 20 of the 28 all stars in it\n",
    "    if numAllStars>7:\n",
    "        classify(df,original_df,displayOutcome)\n",
    "    train = df[msk]\n",
    "    training_flags = [ASFlag[i] for i in xrange(len(ASFlag)) if msk[i]]\n",
    "    test = df[~msk]\n",
    "    clf = LogisticRegression(random_state=0, solver='lbfgs', multi_class='multinomial').fit(train, training_flags)      \n",
    "    predictions = list(clf.predict(test))\n",
    "    numCorrect=0\n",
    "    #list of wrong tuples, in order of predicted then actual\n",
    "    wrong=[]\n",
    "    correctAS=[]\n",
    "    for pred,data,i in zip(predictions,testing_flags,xrange(len(predictions))):\n",
    "        #print pred, dafota\n",
    "        if pred==data:\n",
    "            numCorrect+=1\n",
    "            #print i\n",
    "            #rint count\n",
    "            if pred==True:\n",
    "                correctAS.append(i)\n",
    "        else:\n",
    "            wrong.append((i,pred,data))\n",
    "    if displayOutcome==True:\n",
    "        print \"Number of Correct Predictions: \", numCorrect\n",
    "        print \"Total Predictions Made: \", len(predictions)\n",
    "        print numCorrect*1.0/len(predictions), \"\\n\"\n",
    "\n",
    "        print \"Correctly Predicted Allstars:\\n\"\n",
    "        for indx in correctAS:\n",
    "            ogIndex=test.index[indx]\n",
    "            print original_df.iloc[ogIndex,0]\n",
    "        print \"\\nWrong Predictions: \\n\"\n",
    "        for i,pred,data in wrong:\n",
    "            ogIndex=test.index[i]\n",
    "            print original_df.iloc[ogIndex,0] + resType(pred,data)\n",
    "    diagnostics=(numCorrect,len(predictions),numAllStars,len(correctAS),clf)\n",
    "    return diagnostics"
   ]
  },
  {
   "cell_type": "code",
   "execution_count": 11,
   "metadata": {
    "scrolled": false
   },
   "outputs": [
    {
     "name": "stdout",
     "output_type": "stream",
     "text": [
      "Number of Correct Predictions:  109\n",
      "Total Predictions Made:  113\n",
      "0.964601769912 \n",
      "\n",
      "Correctly Predicted Allstars:\n",
      "\n",
      "DeMarcus Cousins\n",
      "Joel Embiid\n",
      "James Harden\n",
      "Damian Lillard\n",
      "Karl-Anthony Towns\n",
      "\n",
      "Wrong Predictions: \n",
      "\n",
      "MarShon Brooks - False Positive\n",
      "DeMar DeRozan - Missed AllStar\n",
      "Kyle Lowry - Missed AllStar\n",
      "Lou Williams - False Positive\n"
     ]
    },
    {
     "data": {
      "text/plain": [
       "(109,\n",
       " 113,\n",
       " 7,\n",
       " 5,\n",
       " LogisticRegression(C=1.0, class_weight=None, dual=False, fit_intercept=True,\n",
       "           intercept_scaling=1, max_iter=100, multi_class='multinomial',\n",
       "           n_jobs=1, penalty='l2', random_state=0, solver='lbfgs',\n",
       "           tol=0.0001, verbose=0, warm_start=False))"
      ]
     },
     "execution_count": 11,
     "metadata": {},
     "output_type": "execute_result"
    }
   ],
   "source": [
    "classify(finalData,originalData,displayOutcome=True)"
   ]
  },
  {
   "cell_type": "code",
   "execution_count": 12,
   "metadata": {
    "scrolled": true
   },
   "outputs": [
    {
     "name": "stdout",
     "output_type": "stream",
     "text": [
      "Over  1000  iterations, the classifier predicted  104605 outcomes correctly out of  108091 total data points for an overall accuracy of  0.967749396342 .\n",
      "Of the  5622  All-Stars that were classified,  3492  were correctly identified, for an accuracy of  0.621131270011 .\n"
     ]
    }
   ],
   "source": [
    "def testClassifier1(its,df,ogdf=originalData):\n",
    "    correct=0\n",
    "    total=0\n",
    "    correctAllStars=0\n",
    "    totAllStars=0\n",
    "\n",
    "    for i in xrange(its):\n",
    "        clf=classify(df,ogdf,displayOutcome=False)\n",
    "        correct+=clf[0]\n",
    "        total+=clf[1]\n",
    "        totAllStars+=clf[2]\n",
    "        correctAllStars+=clf[3]\n",
    "    totAcc = 1.0*correct/total\n",
    "    asAcc = 1.0*correctAllStars/totAllStars\n",
    "    \n",
    "    print \"Over \", its, \" iterations, the classifier predicted \",correct, \"outcomes correctly out of \", total, \"total data points for an overall accuracy of \", totAcc ,\".\"\n",
    "    print \"Of the \", totAllStars, \" All-Stars that were classified, \", correctAllStars, \" were correctly identified, for an accuracy of \", asAcc, \".\" \n",
    "testClassifier1(1000, finalData)"
   ]
  },
  {
   "cell_type": "markdown",
   "metadata": {
    "collapsed": true
   },
   "source": [
    "### Making A More Relevant Model\n",
    "During the Logistic Regression, likelihood values between 0 and 1 are assigned to each player of the testing data, and a likelihood greater than 0.5 is classified as an All-Star. However, if we know there are 6 All-Stars in the testing data, it would be more relevant to find the 6 players most likely to be all-stars,\n",
    "\n",
    " - Adjust classifying function to return a more relevant result"
   ]
  },
  {
   "cell_type": "code",
   "execution_count": 13,
   "metadata": {
    "collapsed": true
   },
   "outputs": [],
   "source": [
    "def classifyTopX(df, original_df=originalData,testing=False):\n",
    "    msk = np.random.rand(len(df)) < 0.8\n",
    "    testing_flags = [ASFlag[i] for i in xrange(len(ASFlag)) if not msk[i]]\n",
    "    numAllStars = sum(testing_flags) #number of allstars we want (we'll find the best numAllStars)\n",
    "    #training set should have at least 20 of the 28 all stars in it\n",
    "    if numAllStars>8:\n",
    "        return 0,0,0,\"\"\n",
    "    else:\n",
    "        if not testing:\n",
    "            print \"We need to predict \" + str(numAllStars) + \" more All_Stars.\"\n",
    "        train = df[msk]\n",
    "        training_flags = [ASFlag[i] for i in xrange(len(ASFlag)) if msk[i]]\n",
    "        test = df[~msk]\n",
    "        clf2 = LogisticRegression(random_state=0, solver='lbfgs', multi_class='multinomial').fit(train, training_flags)  \n",
    "        realAllStars=[original_df.iloc[test.index[i],0] for i in xrange(len(test)) if original_df.iloc[test.index[i],0] in all_stars]\n",
    "        if not testing:\n",
    "            print \"Correct Answers are:\"\n",
    "            for each in realAllStars:\n",
    "                print each\n",
    "       \n",
    "        likelihoods=clf2.predict_proba(test)\n",
    "        #print likelihoods\n",
    "        posLikelihood=[(likelihoods[i][1],i) for i in xrange(len(likelihoods))]\n",
    "        top=sorted(posLikelihood,reverse=True)\n",
    "        t2=[list((original_df.iloc[test.index[indx],0],likelihood)) for likelihood,indx in top]    \n",
    "        resultsDF=pd.DataFrame(t2,columns=[\"Name\",\"Likelihood\"]).head(numAllStars+5)      \n",
    "        predictions = [t2[i][0] for i in xrange(numAllStars)]\n",
    "        #print predictions\n",
    "        numCorrect=0\n",
    "        correctAS=[]\n",
    "        wrong=[]\n",
    "        #list of wrong tuples, in order of predicted then actual\n",
    "        for i in xrange(numAllStars):\n",
    "            if predictions[i] in realAllStars:\n",
    "                numCorrect+=1\n",
    "                correctAS.append(predictions[i])\n",
    "            else:\n",
    "                wrong.append(predictions[i])\n",
    "\n",
    "        if not testing:\n",
    "            print \"We predicted \" +str(numCorrect) +\" correctly out of \" + str(numAllStars)+\".\"\n",
    "            print \"Our \"+ str(numAllStars) + \" predictions, with the next 5 best predictions are outputted below:\"\n",
    "    if testing==True:\n",
    "        return [resultsDF,numCorrect,numAllStars,wrong,clf2]\n",
    "    #return the classifier so we can use it to predict next season\n",
    "    return  resultsDF,clf2\n"
   ]
  },
  {
   "cell_type": "code",
   "execution_count": 14,
   "metadata": {},
   "outputs": [
    {
     "name": "stdout",
     "output_type": "stream",
     "text": [
      "We need to predict 2 more All_Stars.\n",
      "Correct Answers are:\n",
      "James Harden\n",
      "Russell Westbrook\n",
      "We predicted 2 correctly out of 2.\n",
      "Our 2 predictions, with the next 5 best predictions are outputted below:\n"
     ]
    },
    {
     "data": {
      "text/html": [
       "<div>\n",
       "<style>\n",
       "    .dataframe thead tr:only-child th {\n",
       "        text-align: right;\n",
       "    }\n",
       "\n",
       "    .dataframe thead th {\n",
       "        text-align: left;\n",
       "    }\n",
       "\n",
       "    .dataframe tbody tr th {\n",
       "        vertical-align: top;\n",
       "    }\n",
       "</style>\n",
       "<table border=\"1\" class=\"dataframe\">\n",
       "  <thead>\n",
       "    <tr style=\"text-align: right;\">\n",
       "      <th></th>\n",
       "      <th>Name</th>\n",
       "      <th>Likelihood</th>\n",
       "    </tr>\n",
       "  </thead>\n",
       "  <tbody>\n",
       "    <tr>\n",
       "      <th>0</th>\n",
       "      <td>James Harden</td>\n",
       "      <td>0.986231</td>\n",
       "    </tr>\n",
       "    <tr>\n",
       "      <th>1</th>\n",
       "      <td>Russell Westbrook</td>\n",
       "      <td>0.894135</td>\n",
       "    </tr>\n",
       "    <tr>\n",
       "      <th>2</th>\n",
       "      <td>Chris Paul</td>\n",
       "      <td>0.785062</td>\n",
       "    </tr>\n",
       "    <tr>\n",
       "      <th>3</th>\n",
       "      <td>Tyreke Evans</td>\n",
       "      <td>0.482550</td>\n",
       "    </tr>\n",
       "    <tr>\n",
       "      <th>4</th>\n",
       "      <td>Andre Ingram</td>\n",
       "      <td>0.325736</td>\n",
       "    </tr>\n",
       "    <tr>\n",
       "      <th>5</th>\n",
       "      <td>Will Barton</td>\n",
       "      <td>0.266307</td>\n",
       "    </tr>\n",
       "    <tr>\n",
       "      <th>6</th>\n",
       "      <td>Hassan Whiteside</td>\n",
       "      <td>0.251820</td>\n",
       "    </tr>\n",
       "  </tbody>\n",
       "</table>\n",
       "</div>"
      ],
      "text/plain": [
       "                Name  Likelihood\n",
       "0       James Harden    0.986231\n",
       "1  Russell Westbrook    0.894135\n",
       "2         Chris Paul    0.785062\n",
       "3       Tyreke Evans    0.482550\n",
       "4       Andre Ingram    0.325736\n",
       "5        Will Barton    0.266307\n",
       "6   Hassan Whiteside    0.251820"
      ]
     },
     "execution_count": 14,
     "metadata": {},
     "output_type": "execute_result"
    }
   ],
   "source": [
    "clf2=classifyTopX(finalData, testing=False)\n",
    "clf2[0]"
   ]
  },
  {
   "cell_type": "code",
   "execution_count": 15,
   "metadata": {
    "collapsed": true
   },
   "outputs": [],
   "source": [
    "#to allow sorting by number of false allstars\n",
    "def sum_repeats(l):\n",
    "    if len(l)==0:\n",
    "        return 0\n",
    "    d=[]\n",
    "    for entry in l:\n",
    "        try:\n",
    "            index=[each[0]for each in d].index(entry)\n",
    "            d[index][1]+=1\n",
    "        except ValueError:\n",
    "            d.append([entry,1])\n",
    "    return d"
   ]
  },
  {
   "cell_type": "code",
   "execution_count": 16,
   "metadata": {},
   "outputs": [
    {
     "name": "stdout",
     "output_type": "stream",
     "text": [
      "Over 1000 iterations, the classifier predicted 3209 All-Stars correctly out of 4648 total attempts.\n",
      "The classifier had an overall accuracy of 0.690404475043.\n"
     ]
    },
    {
     "data": {
      "text/plain": [
       "[[u'Chris Paul', 183],\n",
       " [u'Nikola Jokic', 167],\n",
       " [u'Blake Griffin', 166],\n",
       " [u'Devin Booker', 151],\n",
       " [u'Lou Williams', 124],\n",
       " [u'MarShon Brooks', 120],\n",
       " [u'Marc Gasol', 78],\n",
       " [u'Ben Simmons', 65],\n",
       " [u'Jrue Holiday', 59],\n",
       " [u'Tyreke Evans', 59],\n",
       " [u'CJ McCollum', 36],\n",
       " [u'Nikola Vucevic', 36],\n",
       " [u'Aaron Gordon', 34],\n",
       " [u'Rudy Gobert', 32],\n",
       " [u'Dwight Howard', 29],\n",
       " [u'Khris Middleton', 13],\n",
       " [u'Nikola Mirotic', 12],\n",
       " [u'Tobias Harris', 12],\n",
       " [u'Kawhi Leonard', 8],\n",
       " [u'Harrison Barnes', 7],\n",
       " [u'Clint Capela', 6],\n",
       " [u'Andre Ingram', 6],\n",
       " [u'Eric Gordon', 5],\n",
       " [u'Hassan Whiteside', 5],\n",
       " [u'Donovan Mitchell', 4],\n",
       " [u'Lauri Markkanen', 4],\n",
       " [u'DeAndre Jordan', 4],\n",
       " [u'Mike Conley', 3],\n",
       " [u'Eric Bledsoe', 2],\n",
       " [u'Lonzo Ball', 2],\n",
       " [u'Gary Harris', 1],\n",
       " [u'Will Barton', 1],\n",
       " [u'Dennis Schroder', 1],\n",
       " [u'Danilo Gallinari', 1],\n",
       " [u'J.J. Redick', 1],\n",
       " [u'Tim Hardaway', 1],\n",
       " [u'T.J. Warren', 1]]"
      ]
     },
     "execution_count": 16,
     "metadata": {},
     "output_type": "execute_result"
    }
   ],
   "source": [
    "def testClassifier2(its,df,ogdf=originalData,output=True):\n",
    "    correct=0\n",
    "    total=0\n",
    "    compile_wrongs=[]\n",
    "    for i in xrange(its):\n",
    "        clf=classifyTopX(df,ogdf,testing=True)\n",
    "        correct+=clf[1]\n",
    "        total+=clf[2]\n",
    "        if len(clf[3])>0:\n",
    "            for each in clf[3]:\n",
    "                compile_wrongs.append(each)\n",
    "    totAcc = 1.0*correct/total\n",
    "    \n",
    "    print \"Over \" + str(its) + \" iterations, the classifier predicted \" + str(correct) + \" All-Stars correctly out of \" +str(total) + \" total attempts.\" \n",
    "    print \"The classifier had an overall accuracy of \" + str(totAcc) + \".\"\n",
    "    if output==True:\n",
    "        return compile_wrongs\n",
    "sorted(sum_repeats(testClassifier2(1000, finalData)),key=getKey,reverse=True)"
   ]
  },
  {
   "cell_type": "markdown",
   "metadata": {},
   "source": [
    "### Common False Positives:\n",
    "Jokic -  18.5 PTS / 10.7 REB /6.1 AST\n",
    "\n",
    "Chris Paul - 18.6 / 5.4 / 7.9 \n",
    "\n",
    "Marc Gasol - 17.3 / 8.1 / 4.2\n",
    "\n",
    "Ben Simmons - 15.8 / 8.1 / 8.2\n",
    "\n",
    "Devin Booker - 24.9 / 4.5 / 4.7\n",
    "\n",
    "Lou Williams - 22.6 / 2.5 / 5.3\n",
    "\n",
    "\n",
    "### Performance\n",
    "\n",
    " - The first classifier prodicts All-Stars correctly with roughly 61% accuracy. When it knows how many All-Stars it is looking for, this increases to around 70% accuracy.\n",
    " - The common False Positives that repeatedly outputted definitely had All-Star numbers, and all had strong cases to make the team last year, with the possible exceptions of Marshon Brooks and Tyreke Evans.\n",
    " - Overall, though not perfect, the calssifier is working as intended.\n"
   ]
  },
  {
   "cell_type": "markdown",
   "metadata": {},
   "source": [
    "### Potential Adjustments\n",
    "\n",
    "We are now ready to use our model to predict the All-Stars for the 2018-2019 season, however, if there is room to improve our model's accuracy we must look into it.\n",
    " - Try different combinations of parameters. Previously we dropped Minutes Played, Offensive Rebounds, Defensive Rebounds, Age, Games, and Games Started from consideration\n",
    " \n",
    "### Investigation into Games as a viable predictor"
   ]
  },
  {
   "cell_type": "code",
   "execution_count": 17,
   "metadata": {},
   "outputs": [
    {
     "name": "stdout",
     "output_type": "stream",
     "text": [
      "Over 1000 iterations, the classifier predicted 3376 All-Stars correctly out of 4697 total attempts.\n",
      "The classifier had an overall accuracy of 0.718756653183.\n"
     ]
    }
   ],
   "source": [
    "#Adjustment  1 -- Keeping games and games started -- ~72.5 Accuracy\n",
    "dataAdjustment1=originalData.drop(['Player','MP','Tm', 'ORB','DRB','Age','Pos'],axis=1)  \n",
    "testClassifier2(1000, dataAdjustment1,output=False)"
   ]
  },
  {
   "cell_type": "code",
   "execution_count": 18,
   "metadata": {},
   "outputs": [
    {
     "name": "stdout",
     "output_type": "stream",
     "text": [
      "Over 1000 iterations, the classifier predicted 3365 All-Stars correctly out of 4736 total attempts.\n",
      "The classifier had an overall accuracy of 0.710515202703.\n"
     ]
    }
   ],
   "source": [
    "#Adjustment  2 -- Replacing Games and Games Started with startedPercent -- ~70% Accuracy\n",
    "gs=[int(i) for i in originalData['GS']]\n",
    "g=[int(i) for i in originalData['G']]\n",
    "\n",
    "startPercent=[gs[i]*1.0/g[i] for i in xrange(len(g))]\n",
    "originalData['startPercent']=startPercent\n",
    "dataAdjustment2=originalData.drop(['Player','MP','Tm', 'ORB','DRB','Age','Pos','G','GS'],axis=1)  \n",
    "testClassifier2(1000, dataAdjustment2,output=False)\n",
    "\n",
    "#Reset originalData to its initial state (without startPercent)\n",
    "originalData=prepareDF(df)"
   ]
  },
  {
   "cell_type": "code",
   "execution_count": 19,
   "metadata": {},
   "outputs": [
    {
     "name": "stdout",
     "output_type": "stream",
     "text": [
      "Over 1000 iterations, the classifier predicted 3355 All-Stars correctly out of 4629 total attempts.\n",
      "The classifier had an overall accuracy of 0.724778569886.\n"
     ]
    }
   ],
   "source": [
    "#Adjustment  3 --Just Games Started -- ~71% Accuracy\n",
    "\n",
    "dataAdjustment3=originalData.drop(['Player','MP','Tm', 'ORB','DRB','Age','Pos','G',],axis=1)  \n",
    "testClassifier2(1000, dataAdjustment3,output=False)"
   ]
  },
  {
   "cell_type": "code",
   "execution_count": 20,
   "metadata": {},
   "outputs": [
    {
     "name": "stdout",
     "output_type": "stream",
     "text": [
      "Over 1000 iterations, the classifier predicted 3341 All-Stars correctly out of 4797 total attempts.\n",
      "The classifier had an overall accuracy of 0.69647696477.\n"
     ]
    }
   ],
   "source": [
    "#Adjustment  4 --Just Games -- ~68% Accuracy\n",
    "\n",
    "dataAdjustment4=originalData.drop(['Player','MP','Tm', 'ORB','DRB','Age','Pos','GS',],axis=1)  \n",
    "testClassifier2(1000, dataAdjustment4,output=False)"
   ]
  },
  {
   "cell_type": "markdown",
   "metadata": {},
   "source": [
    "### Preliminary Results\n",
    "\n",
    "It seems as though keeping Games and Games Started in our model is the best option. As the very least, we want to keep Games Started.\n",
    "\n",
    "| Model          | Accuracy |  \n",
    "|:----------------:|:----------:|\n",
    "| Games          | 68%        | \n",
    "| startedPercent | 70%        |  \n",
    "| Neither        | 70%       |   \n",
    "| Games Started        | 71%       |  \n",
    "| Games and Games Started        | 72.5%       |   \n",
    "\n",
    "### Field Goal% vs Attempts and Made\n",
    "\n",
    "Data for Field Goal Percent is included in attempts and makes, so removing it shouldnn't make a difference. Does changing these parameters improve the model?"
   ]
  },
  {
   "cell_type": "code",
   "execution_count": 21,
   "metadata": {},
   "outputs": [
    {
     "name": "stdout",
     "output_type": "stream",
     "text": [
      "Over 1000 iterations, the classifier predicted 3548 All-Stars correctly out of 4942 total attempts.\n",
      "The classifier had an overall accuracy of 0.717927964387.\n"
     ]
    }
   ],
   "source": [
    "#Adjustment  5 -- Removing 2P% -- 72.7%\n",
    "\n",
    "dataAdjustment5=originalData.drop(['Player','MP','Tm', 'ORB','DRB','Age','Pos','2P%'],axis=1)  \n",
    "testClassifier2(1000, dataAdjustment5,output=False)"
   ]
  },
  {
   "cell_type": "code",
   "execution_count": 22,
   "metadata": {},
   "outputs": [
    {
     "name": "stdout",
     "output_type": "stream",
     "text": [
      "Over 1000 iterations, the classifier predicted 3336 All-Stars correctly out of 4645 total attempts.\n",
      "The classifier had an overall accuracy of 0.718191603875.\n"
     ]
    }
   ],
   "source": [
    "#Adjustment  6 -- Removing 2PA and 2P\n",
    "\n",
    "dataAdjustment6=originalData.drop(['Player','MP','Tm', 'ORB','DRB','Age','Pos','2PA','2P'],axis=1)  \n",
    "testClassifier2(1000, dataAdjustment6,output=False)"
   ]
  },
  {
   "cell_type": "code",
   "execution_count": 23,
   "metadata": {},
   "outputs": [
    {
     "name": "stdout",
     "output_type": "stream",
     "text": [
      "Over 1000 iterations, the classifier predicted 3377 All-Stars correctly out of 4662 total attempts.\n",
      "The classifier had an overall accuracy of 0.724367224367.\n"
     ]
    }
   ],
   "source": [
    "#Adjustment  7 -- Only Keeping 2PM -- \n",
    "\n",
    "dataAdjustment7=originalData.drop(['Player','MP','Tm', 'ORB','DRB','Age','Pos','2PA','2P%'],axis=1)  \n",
    "testClassifier2(1000, dataAdjustment7,output=False)"
   ]
  },
  {
   "cell_type": "code",
   "execution_count": 39,
   "metadata": {},
   "outputs": [
    {
     "name": "stdout",
     "output_type": "stream",
     "text": [
      "Over 1000 iterations, the classifier predicted 3465 All-Stars correctly out of 4841 total attempts.\n",
      "The classifier had an overall accuracy of 0.715761206362.\n"
     ]
    }
   ],
   "source": [
    "#Adjustment  7_b -- no 2P data -- \n",
    "\n",
    "dataAdjustment7_b=originalData.drop(['Player','MP','Tm', 'ORB','DRB','Age','Pos','2PA','2P','2P%'],axis=1)  \n",
    "testClassifier2(1000, dataAdjustment7_b,output=False)"
   ]
  },
  {
   "cell_type": "markdown",
   "metadata": {},
   "source": [
    "### Takeaways\n",
    "\n",
    " - Removing 2P% has no significant effect on the model, as expected\n",
    " - Removing 2PA and 2P produces similar results to removing 2P%, and both are marginally better than competely ignoring 2-pointer data\n",
    " - Keeping just 2P is the only model that doesn't see a decrease in accuracy\n",
    " \n",
    "We will proceed with Adjustment 7 as our benchmark model\n",
    "\n",
    "### Repeat this process with Free Throws, and 3-Pointers, comparing to a baseline of ~72.5%"
   ]
  },
  {
   "cell_type": "code",
   "execution_count": 45,
   "metadata": {},
   "outputs": [
    {
     "name": "stdout",
     "output_type": "stream",
     "text": [
      "Removing FT%\n",
      "Over 1000 iterations, the classifier predicted 3377 All-Stars correctly out of 4736 total attempts.\n",
      "The classifier had an overall accuracy of 0.713048986486.\n",
      "Removing FT, FTA\n",
      "Over 1000 iterations, the classifier predicted 3511 All-Stars correctly out of 4753 total attempts.\n",
      "The classifier had an overall accuracy of 0.73869135283.\n",
      "Removing FT, FTA, FT%\n",
      "Over 1000 iterations, the classifier predicted 3516 All-Stars correctly out of 4804 total attempts.\n",
      "The classifier had an overall accuracy of 0.73189009159.\n"
     ]
    }
   ],
   "source": [
    "#Adjustments 8 -10 -- Free Throws and 3-Pointers\n",
    "print \"Removing FT%\\n\"\n",
    "dataAdjustment8=originalData.drop(['Player','Tm','MP', 'ORB','DRB','Age','Pos','2P%','2PA','FT%'],axis=1)  \n",
    "testClassifier2(1000, dataAdjustment8,output=False)\n",
    "\n",
    "print \"Removing FT, FTA\\n\"\n",
    "dataAdjustment9=originalData.drop(['Player','Tm', 'MP','ORB','DRB','Age','Pos','2P%','2PA','FT','FTA'],axis=1)  \n",
    "testClassifier2(1000, dataAdjustment9,output=False)\n",
    "\n",
    "print \"Removing FT, FTA, FT%'\\n\"\n",
    "dataAdjustment10=originalData.drop(['Player','Tm','MP', 'ORB','DRB','Age','Pos','2P%','2PA','FT','FTA'],axis=1)  \n",
    "testClassifier2(1000, dataAdjustment10,output=False)"
   ]
  },
  {
   "cell_type": "markdown",
   "metadata": {},
   "source": [
    "- The discrepancies are all very slight, but either removing FT and FTA in favor of only FT% is the most accurate model (73.8%) by a small margin\n",
    "- Removing all free throw related stats also improves out model\n",
    "- Moving forward we will remove FT and FTA in favor of just utilizing FT%"
   ]
  },
  {
   "cell_type": "code",
   "execution_count": 47,
   "metadata": {},
   "outputs": [
    {
     "name": "stdout",
     "output_type": "stream",
     "text": [
      "Removing 3P% 3PA\n",
      "Over 1000 iterations, the classifier predicted 3453 All-Stars correctly out of 4708 total attempts.\n",
      "The classifier had an overall accuracy of 0.733432455395.\n",
      "Removing 3P, 3PA\n",
      "Over 1000 iterations, the classifier predicted 3450 All-Stars correctly out of 4713 total attempts.\n",
      "The classifier had an overall accuracy of 0.732017823043.\n",
      "Removing 3P, 3PA, 3P%\n",
      "Over 1000 iterations, the classifier predicted 3581 All-Stars correctly out of 4785 total attempts.\n",
      "The classifier had an overall accuracy of 0.748380355277.\n"
     ]
    }
   ],
   "source": [
    "#Adjustments 11-13 -- Free Throws and 3-Pointers\n",
    "print \"Removing 3P% 3PA\\n\"\n",
    "dataAdjustment11=originalData.drop(['Player','Tm', 'MP','ORB','DRB','Age','Pos','2P%','2PA','FT','FTA','3P%', '3PA'],axis=1)  \n",
    "testClassifier2(1000, dataAdjustment11,output=False)\n",
    "\n",
    "print \"Removing 3P, 3PA\\n\"\n",
    "dataAdjustment12=originalData.drop(['Player','Tm','MP', 'ORB','DRB','Age','Pos','2P%','2PA','FT','FTA','3P','3PA'],axis=1)  \n",
    "testClassifier2(1000, dataAdjustment12,output=False)\n",
    "\n",
    "print \"Removing 3P, 3PA, 3P%\\n\"\n",
    "dataAdjustment13=originalData.drop(['Player','Tm','MP', 'ORB','DRB','Age','Pos','2P%','2PA','FT','FTA','3P','3PA','3P%'],axis=1)  \n",
    "testClassifier2(1000, dataAdjustment13,output=False)\n",
    "\n"
   ]
  },
  {
   "cell_type": "markdown",
   "metadata": {},
   "source": [
    " - Removing all statistics on 3-pointers raises our accuracy to ~74.8%!\n",
    "     - If we created a separate model just for predicting guards, this would probably not be the case\n",
    " - Adjustment 13 will now be our benchmark model\n",
    " \n",
    " ## Minutes Played and Personal Fouls"
   ]
  },
  {
   "cell_type": "code",
   "execution_count": 48,
   "metadata": {},
   "outputs": [
    {
     "name": "stdout",
     "output_type": "stream",
     "text": [
      "Keeping MP\n",
      "\n",
      "Over 1000 iterations, the classifier predicted 3414 All-Stars correctly out of 4734 total attempts.\n",
      "The classifier had an overall accuracy of 0.721166032953.\n"
     ]
    }
   ],
   "source": [
    "print \"Keeping MP\\n\"\n",
    "dataAdjustment14=originalData.drop(['Player','Tm', 'ORB','DRB','Age','Pos','2P%','2PA','FT','FTA','3P','3PA','3P%'],axis=1)  \n",
    "testClassifier2(1000, dataAdjustment14,output=False)"
   ]
  },
  {
   "cell_type": "markdown",
   "metadata": {},
   "source": [
    " - This model is over 2% less accurate, so we will continue ignoring minutes played"
   ]
  },
  {
   "cell_type": "code",
   "execution_count": 53,
   "metadata": {},
   "outputs": [
    {
     "name": "stdout",
     "output_type": "stream",
     "text": [
      "Removing Fouls\n",
      "\n",
      "Over 1000 iterations, the classifier predicted 3455 All-Stars correctly out of 4724 total attempts.\n",
      "The classifier had an overall accuracy of 0.731371718882.\n"
     ]
    }
   ],
   "source": [
    "print \"Removing Fouls\\n\"\n",
    "dataAdjustment15=originalData.drop(['Player','Tm', 'MP','ORB','DRB','Age','Pos','2P%','2PA','FT','FTA','3P','3PA','3P%','PF'],axis=1)  \n",
    "testClassifier2(1000, dataAdjustment15,output=False)"
   ]
  },
  {
   "cell_type": "markdown",
   "metadata": {},
   "source": [
    " - This model is quite good, but overall slightly less accurate than Adjustment 13"
   ]
  },
  {
   "cell_type": "code",
   "execution_count": 55,
   "metadata": {},
   "outputs": [
    {
     "name": "stdout",
     "output_type": "stream",
     "text": [
      "Removing eFG%\n",
      "\n",
      "Over 1000 iterations, the classifier predicted 3318 All-Stars correctly out of 4620 total attempts.\n",
      "The classifier had an overall accuracy of 0.718181818182.\n"
     ]
    }
   ],
   "source": [
    "print \"Removing eFG%\\n\"\n",
    "dataAdjustment16=originalData.drop(['Player','Tm', 'MP','ORB','DRB','Age','Pos','2P%','2PA','FT','FTA','3P','3PA','3P%','PF','eFG%'],axis=1)  \n",
    "testClassifier2(1000, dataAdjustment16,output=False)"
   ]
  },
  {
   "cell_type": "markdown",
   "metadata": {},
   "source": [
    " - Removing effective Field Goal Percentage definitely did not improve our model.\n",
    " - There are hundreds of possible combinations of parameters we could check, but these seemed like the most reasonable to test and compare\n",
    " - We will proceed by using dataAdjustment13 as the data to train our classifier with\n",
    " "
   ]
  },
  {
   "cell_type": "markdown",
   "metadata": {},
   "source": [
    "## Predicting the 2018-2019 All-Stars\n",
    " - Gather data for the 2018-2019 season (up end of day 1/23/2019)\n",
    " - We will now use all of the data from 2017-2018 to train the classifer instead of splitting it 80/20\n",
    " - insert the 2018-2019 season data as the testing data, and predict the All-Star teams for this year"
   ]
  },
  {
   "cell_type": "code",
   "execution_count": 58,
   "metadata": {
    "collapsed": true
   },
   "outputs": [],
   "source": [
    "#get 2018-2019 data \n",
    "data2019=gather_data('https://www.basketball-reference.com/leagues/NBA_2019_per_game.html')"
   ]
  },
  {
   "cell_type": "code",
   "execution_count": 59,
   "metadata": {
    "collapsed": true
   },
   "outputs": [],
   "source": [
    "og2019=prepareDF(data2019)"
   ]
  },
  {
   "cell_type": "code",
   "execution_count": 60,
   "metadata": {
    "collapsed": true
   },
   "outputs": [],
   "source": [
    "cleaned_2019=og2019.drop(['Player','Tm','MP', 'ORB','DRB','Age','Pos','2P%','2PA','FT','FTA','3P','3PA','3P%'],axis=1)"
   ]
  },
  {
   "cell_type": "code",
   "execution_count": 61,
   "metadata": {
    "scrolled": true
   },
   "outputs": [
    {
     "data": {
      "text/html": [
       "<div>\n",
       "<style>\n",
       "    .dataframe thead tr:only-child th {\n",
       "        text-align: right;\n",
       "    }\n",
       "\n",
       "    .dataframe thead th {\n",
       "        text-align: left;\n",
       "    }\n",
       "\n",
       "    .dataframe tbody tr th {\n",
       "        vertical-align: top;\n",
       "    }\n",
       "</style>\n",
       "<table border=\"1\" class=\"dataframe\">\n",
       "  <thead>\n",
       "    <tr style=\"text-align: right;\">\n",
       "      <th></th>\n",
       "      <th>0</th>\n",
       "      <th>1</th>\n",
       "    </tr>\n",
       "  </thead>\n",
       "  <tbody>\n",
       "    <tr>\n",
       "      <th>0</th>\n",
       "      <td>James Harden</td>\n",
       "      <td>0.991096</td>\n",
       "    </tr>\n",
       "    <tr>\n",
       "      <th>1</th>\n",
       "      <td>Anthony Davis</td>\n",
       "      <td>0.971575</td>\n",
       "    </tr>\n",
       "    <tr>\n",
       "      <th>2</th>\n",
       "      <td>Stephen Curry</td>\n",
       "      <td>0.947746</td>\n",
       "    </tr>\n",
       "    <tr>\n",
       "      <th>3</th>\n",
       "      <td>Kevin Durant</td>\n",
       "      <td>0.928463</td>\n",
       "    </tr>\n",
       "    <tr>\n",
       "      <th>4</th>\n",
       "      <td>LeBron James</td>\n",
       "      <td>0.923051</td>\n",
       "    </tr>\n",
       "    <tr>\n",
       "      <th>5</th>\n",
       "      <td>Joel Embiid</td>\n",
       "      <td>0.914036</td>\n",
       "    </tr>\n",
       "    <tr>\n",
       "      <th>6</th>\n",
       "      <td>Giannis Antetokounmpo</td>\n",
       "      <td>0.875587</td>\n",
       "    </tr>\n",
       "    <tr>\n",
       "      <th>7</th>\n",
       "      <td>Damian Lillard</td>\n",
       "      <td>0.864438</td>\n",
       "    </tr>\n",
       "    <tr>\n",
       "      <th>8</th>\n",
       "      <td>Kawhi Leonard</td>\n",
       "      <td>0.845124</td>\n",
       "    </tr>\n",
       "    <tr>\n",
       "      <th>9</th>\n",
       "      <td>Paul George</td>\n",
       "      <td>0.824542</td>\n",
       "    </tr>\n",
       "    <tr>\n",
       "      <th>10</th>\n",
       "      <td>Blake Griffin</td>\n",
       "      <td>0.814733</td>\n",
       "    </tr>\n",
       "    <tr>\n",
       "      <th>11</th>\n",
       "      <td>Kemba Walker</td>\n",
       "      <td>0.796436</td>\n",
       "    </tr>\n",
       "    <tr>\n",
       "      <th>12</th>\n",
       "      <td>Kyrie Irving</td>\n",
       "      <td>0.709957</td>\n",
       "    </tr>\n",
       "    <tr>\n",
       "      <th>13</th>\n",
       "      <td>Karl-Anthony Towns</td>\n",
       "      <td>0.708453</td>\n",
       "    </tr>\n",
       "    <tr>\n",
       "      <th>14</th>\n",
       "      <td>Nikola Vucevic</td>\n",
       "      <td>0.643010</td>\n",
       "    </tr>\n",
       "    <tr>\n",
       "      <th>15</th>\n",
       "      <td>Nikola Jokic</td>\n",
       "      <td>0.637929</td>\n",
       "    </tr>\n",
       "    <tr>\n",
       "      <th>16</th>\n",
       "      <td>Bradley Beal</td>\n",
       "      <td>0.625040</td>\n",
       "    </tr>\n",
       "    <tr>\n",
       "      <th>17</th>\n",
       "      <td>Luka Doncic</td>\n",
       "      <td>0.610672</td>\n",
       "    </tr>\n",
       "    <tr>\n",
       "      <th>18</th>\n",
       "      <td>Jrue Holiday</td>\n",
       "      <td>0.553901</td>\n",
       "    </tr>\n",
       "    <tr>\n",
       "      <th>19</th>\n",
       "      <td>Mike Conley</td>\n",
       "      <td>0.541280</td>\n",
       "    </tr>\n",
       "    <tr>\n",
       "      <th>20</th>\n",
       "      <td>John Wall</td>\n",
       "      <td>0.540480</td>\n",
       "    </tr>\n",
       "    <tr>\n",
       "      <th>21</th>\n",
       "      <td>Danilo Gallinari</td>\n",
       "      <td>0.530496</td>\n",
       "    </tr>\n",
       "    <tr>\n",
       "      <th>22</th>\n",
       "      <td>Russell Westbrook</td>\n",
       "      <td>0.517037</td>\n",
       "    </tr>\n",
       "    <tr>\n",
       "      <th>23</th>\n",
       "      <td>Ben Simmons</td>\n",
       "      <td>0.514483</td>\n",
       "    </tr>\n",
       "  </tbody>\n",
       "</table>\n",
       "</div>"
      ],
      "text/plain": [
       "                        0         1\n",
       "0            James Harden  0.991096\n",
       "1           Anthony Davis  0.971575\n",
       "2           Stephen Curry  0.947746\n",
       "3            Kevin Durant  0.928463\n",
       "4            LeBron James  0.923051\n",
       "5             Joel Embiid  0.914036\n",
       "6   Giannis Antetokounmpo  0.875587\n",
       "7          Damian Lillard  0.864438\n",
       "8           Kawhi Leonard  0.845124\n",
       "9             Paul George  0.824542\n",
       "10          Blake Griffin  0.814733\n",
       "11           Kemba Walker  0.796436\n",
       "12           Kyrie Irving  0.709957\n",
       "13     Karl-Anthony Towns  0.708453\n",
       "14         Nikola Vucevic  0.643010\n",
       "15           Nikola Jokic  0.637929\n",
       "16           Bradley Beal  0.625040\n",
       "17            Luka Doncic  0.610672\n",
       "18           Jrue Holiday  0.553901\n",
       "19            Mike Conley  0.541280\n",
       "20              John Wall  0.540480\n",
       "21       Danilo Gallinari  0.530496\n",
       "22      Russell Westbrook  0.517037\n",
       "23            Ben Simmons  0.514483"
      ]
     },
     "execution_count": 61,
     "metadata": {},
     "output_type": "execute_result"
    }
   ],
   "source": [
    "clf_final = LogisticRegression(random_state=0, solver='lbfgs', multi_class='multinomial').fit(dataAdjustment13, ASFlag)  \n",
    "probs=clf_final.predict_proba(cleaned_2019)\n",
    "posLikelihood_2019=[(probs[i][1],i) for i in xrange(len(probs))]\n",
    "sortedLikelihoods=sorted(posLikelihood_2019,reverse=True)\n",
    "playerWeights = [list((og2019.iloc[cleaned_2019.index[indx],0],likelihood)) for likelihood,indx in sortedLikelihoods]\n",
    "df2019=pd.DataFrame(playerWeights)\n",
    "df2019.head(24)"
   ]
  },
  {
   "cell_type": "markdown",
   "metadata": {},
   "source": [
    "### Future Work\n",
    " 1. Tweeking the Model\n",
    "     - Creating a seperate model for guards and the frontcourt\n",
    "     - Creating a seperate model for East vs. West\n",
    "     - Using a different combination of parameters, including advanced stats such as Player Efficiency Rating (PER), or Win Shares\n",
    "     - Creating our own statistics\n",
    "          - For example, I created a statistic for games Started Percentage by dividing Games started by total Games, but the model became less accurate.\n",
    " 2. Exploring other ways to make a classifier\n",
    "     - Support Vector Machines\n",
    "     - Random Forest\n",
    "     - XGBoost\n",
    "     - Cross-Validation with 99/1 train/test splits instead of 80/20\n",
    "     "
   ]
  },
  {
   "cell_type": "code",
   "execution_count": null,
   "metadata": {},
   "outputs": [],
   "source": []
  },
  {
   "cell_type": "code",
   "execution_count": null,
   "metadata": {
    "collapsed": true
   },
   "outputs": [],
   "source": []
  }
 ],
 "metadata": {
  "kernelspec": {
   "display_name": "Python 2",
   "language": "python",
   "name": "python2"
  },
  "language_info": {
   "codemirror_mode": {
    "name": "ipython",
    "version": 2
   },
   "file_extension": ".py",
   "mimetype": "text/x-python",
   "name": "python",
   "nbconvert_exporter": "python",
   "pygments_lexer": "ipython2",
   "version": "2.7.14"
  }
 },
 "nbformat": 4,
 "nbformat_minor": 2
}
