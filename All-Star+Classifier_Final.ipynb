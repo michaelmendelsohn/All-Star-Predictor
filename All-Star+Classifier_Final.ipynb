{
 "cells": [
  {
   "cell_type": "markdown",
   "metadata": {},
   "source": [
    "# All-Star Classifier\n",
    "### Project Question: \n",
    "Using data scraped from basketball reference from the 2017- 2018 NBA season, can we accurately classify whether a player is an All-Star this year?\n",
    "### Goals:\n",
    "- Scrape a valid and clean data frame from basketball reference\n",
    "- Investigate each core variable, understand relationships, and check whether new variables can be created\n",
    "- Create the best possible model, and use that to predict the All-Stars for the 2018-2019 season"
   ]
  },
  {
   "cell_type": "code",
   "execution_count": 2,
   "metadata": {
    "collapsed": true
   },
   "outputs": [],
   "source": [
    "import numpy as np\n",
    "import pandas as pd\n",
    "from bs4 import BeautifulSoup, SoupStrainer\n",
    "from collections import OrderedDict\n",
    "import requests\n",
    "np.random.seed()"
   ]
  },
  {
   "cell_type": "markdown",
   "metadata": {},
   "source": [
    "### Web Scraping \n",
    "Using the python package BeautifulSoup, we can scrape data directly from [www.basketballl-refence.com](www.basketballl-refence.com) and place the data into a pandas DataFrame."
   ]
  },
  {
   "cell_type": "code",
   "execution_count": 3,
   "metadata": {
    "collapsed": true
   },
   "outputs": [],
   "source": [
    "def gather_data(url):\n",
    "    season = []\n",
    "    page_req = requests.get(url)\n",
    "    soup = BeautifulSoup(page_req.text, 'lxml')#'lmxl' tells you how to parse \n",
    "    table = soup.find('table')\n",
    "    table_body = table.find('tbody')\n",
    "    rows =table_body.findAll('tr')# find all rows of data table\n",
    "    season=[]\n",
    "    fields = ['Player','Pos','Age','Tm','G','GS','MP','FG','FGA','FG%','3P','3PA','3P%','2P','2PA','2P%','eFG%','FT','FTA','FT%','ORB','DRB','TRB','AST','STL','BLK','TOV','PF','PS/G']\n",
    "    #2P = 2 pointers made, 2PA = 2 pointers attempted, 2P% = 2 pointer percentage\n",
    "    #Pos = position, TM = team, ORB = offensive rebounds, DRB = defensive rebounds, \n",
    "    #eFG% = effective field goal percentage\n",
    "    for row in rows:\n",
    "        cell = row.findAll('td')\n",
    "        if cell:\n",
    "            cell = [c.text for c in cell]\n",
    "            entry = OrderedDict(zip(fields, cell))\n",
    "            season.append(entry)\n",
    "    return pd.DataFrame(season)"
   ]
  },
  {
   "cell_type": "code",
   "execution_count": 4,
   "metadata": {},
   "outputs": [
    {
     "data": {
      "text/html": [
       "<div>\n",
       "<style>\n",
       "    .dataframe thead tr:only-child th {\n",
       "        text-align: right;\n",
       "    }\n",
       "\n",
       "    .dataframe thead th {\n",
       "        text-align: left;\n",
       "    }\n",
       "\n",
       "    .dataframe tbody tr th {\n",
       "        vertical-align: top;\n",
       "    }\n",
       "</style>\n",
       "<table border=\"1\" class=\"dataframe\">\n",
       "  <thead>\n",
       "    <tr style=\"text-align: right;\">\n",
       "      <th></th>\n",
       "      <th>Player</th>\n",
       "      <th>Pos</th>\n",
       "      <th>Age</th>\n",
       "      <th>Tm</th>\n",
       "      <th>G</th>\n",
       "      <th>GS</th>\n",
       "      <th>MP</th>\n",
       "      <th>FG</th>\n",
       "      <th>FGA</th>\n",
       "      <th>FG%</th>\n",
       "      <th>...</th>\n",
       "      <th>FT%</th>\n",
       "      <th>ORB</th>\n",
       "      <th>DRB</th>\n",
       "      <th>TRB</th>\n",
       "      <th>AST</th>\n",
       "      <th>STL</th>\n",
       "      <th>BLK</th>\n",
       "      <th>TOV</th>\n",
       "      <th>PF</th>\n",
       "      <th>PS/G</th>\n",
       "    </tr>\n",
       "  </thead>\n",
       "  <tbody>\n",
       "    <tr>\n",
       "      <th>0</th>\n",
       "      <td>Alex Abrines</td>\n",
       "      <td>SG</td>\n",
       "      <td>24</td>\n",
       "      <td>OKC</td>\n",
       "      <td>75</td>\n",
       "      <td>8</td>\n",
       "      <td>15.1</td>\n",
       "      <td>1.5</td>\n",
       "      <td>3.9</td>\n",
       "      <td>.395</td>\n",
       "      <td>...</td>\n",
       "      <td>.848</td>\n",
       "      <td>0.3</td>\n",
       "      <td>1.2</td>\n",
       "      <td>1.5</td>\n",
       "      <td>0.4</td>\n",
       "      <td>0.5</td>\n",
       "      <td>0.1</td>\n",
       "      <td>0.3</td>\n",
       "      <td>1.7</td>\n",
       "      <td>4.7</td>\n",
       "    </tr>\n",
       "    <tr>\n",
       "      <th>1</th>\n",
       "      <td>Quincy Acy</td>\n",
       "      <td>PF</td>\n",
       "      <td>27</td>\n",
       "      <td>BRK</td>\n",
       "      <td>70</td>\n",
       "      <td>8</td>\n",
       "      <td>19.4</td>\n",
       "      <td>1.9</td>\n",
       "      <td>5.2</td>\n",
       "      <td>.356</td>\n",
       "      <td>...</td>\n",
       "      <td>.817</td>\n",
       "      <td>0.6</td>\n",
       "      <td>3.1</td>\n",
       "      <td>3.7</td>\n",
       "      <td>0.8</td>\n",
       "      <td>0.5</td>\n",
       "      <td>0.4</td>\n",
       "      <td>0.9</td>\n",
       "      <td>2.1</td>\n",
       "      <td>5.9</td>\n",
       "    </tr>\n",
       "    <tr>\n",
       "      <th>2</th>\n",
       "      <td>Steven Adams</td>\n",
       "      <td>C</td>\n",
       "      <td>24</td>\n",
       "      <td>OKC</td>\n",
       "      <td>76</td>\n",
       "      <td>76</td>\n",
       "      <td>32.7</td>\n",
       "      <td>5.9</td>\n",
       "      <td>9.4</td>\n",
       "      <td>.629</td>\n",
       "      <td>...</td>\n",
       "      <td>.559</td>\n",
       "      <td>5.1</td>\n",
       "      <td>4.0</td>\n",
       "      <td>9.0</td>\n",
       "      <td>1.2</td>\n",
       "      <td>1.2</td>\n",
       "      <td>1.0</td>\n",
       "      <td>1.7</td>\n",
       "      <td>2.8</td>\n",
       "      <td>13.9</td>\n",
       "    </tr>\n",
       "    <tr>\n",
       "      <th>3</th>\n",
       "      <td>Bam Adebayo</td>\n",
       "      <td>C</td>\n",
       "      <td>20</td>\n",
       "      <td>MIA</td>\n",
       "      <td>69</td>\n",
       "      <td>19</td>\n",
       "      <td>19.8</td>\n",
       "      <td>2.5</td>\n",
       "      <td>4.9</td>\n",
       "      <td>.512</td>\n",
       "      <td>...</td>\n",
       "      <td>.721</td>\n",
       "      <td>1.7</td>\n",
       "      <td>3.8</td>\n",
       "      <td>5.5</td>\n",
       "      <td>1.5</td>\n",
       "      <td>0.5</td>\n",
       "      <td>0.6</td>\n",
       "      <td>1.0</td>\n",
       "      <td>2.0</td>\n",
       "      <td>6.9</td>\n",
       "    </tr>\n",
       "    <tr>\n",
       "      <th>4</th>\n",
       "      <td>Arron Afflalo</td>\n",
       "      <td>SG</td>\n",
       "      <td>32</td>\n",
       "      <td>ORL</td>\n",
       "      <td>53</td>\n",
       "      <td>3</td>\n",
       "      <td>12.9</td>\n",
       "      <td>1.2</td>\n",
       "      <td>3.1</td>\n",
       "      <td>.401</td>\n",
       "      <td>...</td>\n",
       "      <td>.846</td>\n",
       "      <td>0.1</td>\n",
       "      <td>1.2</td>\n",
       "      <td>1.2</td>\n",
       "      <td>0.6</td>\n",
       "      <td>0.1</td>\n",
       "      <td>0.2</td>\n",
       "      <td>0.4</td>\n",
       "      <td>1.1</td>\n",
       "      <td>3.4</td>\n",
       "    </tr>\n",
       "  </tbody>\n",
       "</table>\n",
       "<p>5 rows × 29 columns</p>\n",
       "</div>"
      ],
      "text/plain": [
       "          Player Pos Age   Tm   G  GS    MP   FG  FGA   FG%  ...    FT%  ORB  \\\n",
       "0   Alex Abrines  SG  24  OKC  75   8  15.1  1.5  3.9  .395  ...   .848  0.3   \n",
       "1     Quincy Acy  PF  27  BRK  70   8  19.4  1.9  5.2  .356  ...   .817  0.6   \n",
       "2   Steven Adams   C  24  OKC  76  76  32.7  5.9  9.4  .629  ...   .559  5.1   \n",
       "3    Bam Adebayo   C  20  MIA  69  19  19.8  2.5  4.9  .512  ...   .721  1.7   \n",
       "4  Arron Afflalo  SG  32  ORL  53   3  12.9  1.2  3.1  .401  ...   .846  0.1   \n",
       "\n",
       "   DRB  TRB  AST  STL  BLK  TOV   PF  PS/G  \n",
       "0  1.2  1.5  0.4  0.5  0.1  0.3  1.7   4.7  \n",
       "1  3.1  3.7  0.8  0.5  0.4  0.9  2.1   5.9  \n",
       "2  4.0  9.0  1.2  1.2  1.0  1.7  2.8  13.9  \n",
       "3  3.8  5.5  1.5  0.5  0.6  1.0  2.0   6.9  \n",
       "4  1.2  1.2  0.6  0.1  0.2  0.4  1.1   3.4  \n",
       "\n",
       "[5 rows x 29 columns]"
      ]
     },
     "execution_count": 4,
     "metadata": {},
     "output_type": "execute_result"
    }
   ],
   "source": [
    "df=gather_data('https://www.basketball-reference.com/leagues/NBA_2018_per_game.html')\n",
    "df.head()"
   ]
  },
  {
   "cell_type": "markdown",
   "metadata": {
    "collapsed": true
   },
   "source": [
    "### Data Cleaning\n",
    "Some of the data must be adjusted in order for our logistic regression to work.\n",
    "\n",
    " - Players who have played on multiple teams during the season will have an additional row for each team they played on, as well as a row with their season total. We are only interested in their total data, and will remove the rest\n",
    " - If a player has never taken a 3 pointer, their 3P% will be an empty string \"\". The logistic regression cannot handle this, so we will replace all empty strings with 0."
   ]
  },
  {
   "cell_type": "code",
   "execution_count": 5,
   "metadata": {
    "collapsed": true
   },
   "outputs": [],
   "source": [
    "def prepareDF(df):\n",
    "    #Create a list of player names with a total row, indicating that they played on multiple teams\n",
    "    traded=list(df[df.Tm=='TOT'].Player)\n",
    "    indices=[]\n",
    "    #If this player played on multiple teams, find row indices containing team-specific data\n",
    "    for i,row in df.iterrows():\n",
    "        if row.Player in traded and row.Tm != 'TOT':\n",
    "            indices.append(i)\n",
    "    #Remove the irrelevant rows from the data frame\n",
    "    newDF=df.drop(indices)\n",
    "    \n",
    "    newDF=newDF.reset_index(drop=True)\n",
    "    newDF=newDF.replace(\"\",0) #replaces empty stats with 0\n",
    "    return newDF"
   ]
  },
  {
   "cell_type": "code",
   "execution_count": 6,
   "metadata": {
    "collapsed": true
   },
   "outputs": [],
   "source": [
    "originalData=prepareDF(df)"
   ]
  },
  {
   "cell_type": "markdown",
   "metadata": {
    "collapsed": true,
    "scrolled": false
   },
   "source": [
    "### Choosing Parameters\n",
    "One of the benefits of creating many models for the 2017-2018 season is we can find which combination of parameters is the most accurate. Here we drop the unwanted parameters.\n",
    "\n",
    " - Drop offensive rebounds and defensive rebounds due to their collinearity with rebounds.\n",
    " - Drop player, team, and position because they are strings.\n",
    " - Drop games, games started, and age. We will investigate games and games started further in the future"
   ]
  },
  {
   "cell_type": "code",
   "execution_count": 7,
   "metadata": {
    "collapsed": true
   },
   "outputs": [],
   "source": [
    "finalData=originalData.drop(['Player','MP','Tm', 'ORB','DRB','Age','G','GS','Pos'],axis=1)  "
   ]
  },
  {
   "cell_type": "markdown",
   "metadata": {},
   "source": [
    "### Create a List of All-Star Flags\n",
    "\n",
    " - Compile a list of the All-Stars for the 2017-2018 season manually. \n",
    " - Create a list named _ASFlag_ indicating True or False for each respective index of _orignalData_\n",
    " \n",
    "This needs to be a separate list, and not part of the DataFrame for the Logistic Regression function to run properly.\n",
    "\n",
    "Note that there were 28 All-Stars last year instead of the standard 24 due to injuries."
   ]
  },
  {
   "cell_type": "code",
   "execution_count": 8,
   "metadata": {
    "collapsed": true
   },
   "outputs": [],
   "source": [
    "#create list of True/False to mark all-stars to use in training data\n",
    "all_stars = [\n",
    "    'LeBron James','Kevin Durant','Anthony Davis',\n",
    "    'Kyrie Irving','DeMarcus Cousins','LaMarcus Aldridge',\n",
    "    'Bradley Beal','Goran Dragic','Andre Drummond','Paul George',\n",
    "    'Victor Oladipo','Kemba Walker','Russell Westbrook','Kevin Love',\n",
    "    'Kristaps Porzingis','John Wall','Stephen Curry','James Harden',\n",
    "    'DeMar DeRozan','Giannis Antetokounmpo','Joel Embiid','Jimmy Butler',\n",
    "    'Draymond Green','Al Horford','Damian Lillard','Kyle Lowry',\n",
    "    'Klay Thompson','Karl-Anthony Towns'\n",
    "]\n",
    "#want All-Stars as separate list for regression\n",
    "ASFlag=[]\n",
    "for name in originalData.Player:\n",
    "    if name in all_stars:\n",
    "        ASFlag.append(True)\n",
    "    else:\n",
    "        ASFlag.append(False)"
   ]
  },
  {
   "cell_type": "markdown",
   "metadata": {},
   "source": [
    "### Logistic Regression \n",
    "Now that all of your data is prepared, we are ready to train a model.\n",
    " - Import the Logistic Regression function from scikit-learn\n",
    " - Create relevent helper functions to better describe and display data\n",
    " - Design a function to split _finalData_ into training sets and testing sets to train and test our model using an 80/20 split\n",
    " - Determine accuracy and viability of the model"
   ]
  },
  {
   "cell_type": "code",
   "execution_count": 9,
   "metadata": {
    "collapsed": true,
    "scrolled": true
   },
   "outputs": [],
   "source": [
    "from sklearn.linear_model import LogisticRegression"
   ]
  },
  {
   "cell_type": "code",
   "execution_count": 10,
   "metadata": {
    "collapsed": true
   },
   "outputs": [],
   "source": [
    "#Declares an incorrect prediction as False Positive, if a non-Allstar is marked as an All-Star,\n",
    "#or Missed AllStar, if an Allstar is classified as a non-Allstar\n",
    "def resType(pred,data):\n",
    "    if pred==True and data==False:\n",
    "        return \" - False Positive\"\n",
    "    else :\n",
    "        return \" - Missed AllStar\"\n",
    "#Allows the function sorted() to sort a list of tuples by 2nd item of the tuple\n",
    "def getKey(item):\n",
    "    return item[1]"
   ]
  },
  {
   "cell_type": "code",
   "execution_count": 14,
   "metadata": {
    "collapsed": true
   },
   "outputs": [],
   "source": [
    "#@param df is the data with duplicate names removed, and the appropriate columns dropped (player names, etc.)\n",
    "#@param original_df is the data with duplicate names removed as returned from prepareDF\n",
    "#@param displayOutcome determines whether or not the function should print out descriptions of how the model performed \n",
    "def classify(df, original_df=originalData, displayOutcome=True):\n",
    "    #Split ASFlag according to the 80/20 split\n",
    "    msk = np.random.rand(len(df)) < 0.8\n",
    "    testing_flags = [ASFlag[i] for i in xrange(len(ASFlag)) if not msk[i]]\n",
    "    training_flags = [ASFlag[i] for i in xrange(len(ASFlag)) if msk[i]]\n",
    "    numAllStars = sum(testing_flags)\n",
    "    #Training set should have at least 20 of the 28 all stars in it\n",
    "    if numAllStars>7:\n",
    "        classify(df,original_df,displayOutcome)\n",
    "    #Split data into training and testing sets according to the 80/20 split\n",
    "    train = df[msk]\n",
    "    test = df[~msk]\n",
    "    clf = LogisticRegression(random_state=0, solver='lbfgs', multi_class='multinomial').fit(train, training_flags)      \n",
    "    predictions = list(clf.predict(test))\n",
    "    numCorrect=0\n",
    "    #list of wrong tuples, in order of predicted then actual\n",
    "    wrong=[]\n",
    "    correctAS=[]\n",
    "    for pred,data,i in zip(predictions,testing_flags,xrange(len(predictions))):\n",
    "        if pred==data:\n",
    "            numCorrect+=1\n",
    "            if pred==True:\n",
    "                correctAS.append(i)\n",
    "        else:\n",
    "            wrong.append((i,pred,data))\n",
    "    if displayOutcome==True:\n",
    "        print \"Number of Correct Predictions: \", numCorrect\n",
    "        print \"Total Predictions Made: \", len(predictions)\n",
    "        print numCorrect*1.0/len(predictions), \"\\n\"\n",
    "\n",
    "        print \"Correctly Predicted Allstars:\\n\"\n",
    "        for indx in correctAS:\n",
    "            ogIndex=test.index[indx]\n",
    "            print original_df.iloc[ogIndex,0]\n",
    "        print \"\\nWrong Predictions: \\n\"\n",
    "        for i,pred,data in wrong:\n",
    "            ogIndex=test.index[i]\n",
    "            print original_df.iloc[ogIndex,0] + resType(pred,data)\n",
    "    diagnostics=(numCorrect,len(predictions),numAllStars,len(correctAS),clf)\n",
    "    return diagnostics"
   ]
  },
  {
   "cell_type": "code",
   "execution_count": 15,
   "metadata": {
    "scrolled": false
   },
   "outputs": [
    {
     "name": "stdout",
     "output_type": "stream",
     "text": [
      "Number of Correct Predictions:  112\n",
      "Total Predictions Made:  115\n",
      "0.973913043478 \n",
      "\n",
      "Correctly Predicted Allstars:\n",
      "\n",
      "Giannis Antetokounmpo\n",
      "Bradley Beal\n",
      "Stephen Curry\n",
      "Karl-Anthony Towns\n",
      "John Wall\n",
      "\n",
      "Wrong Predictions: \n",
      "\n",
      "Devin Booker - False Positive\n",
      "Kevin Love - Missed AllStar\n",
      "Ben Simmons - False Positive\n"
     ]
    },
    {
     "data": {
      "text/plain": [
       "(112,\n",
       " 115,\n",
       " 6,\n",
       " 5,\n",
       " LogisticRegression(C=1.0, class_weight=None, dual=False, fit_intercept=True,\n",
       "           intercept_scaling=1, max_iter=100, multi_class='multinomial',\n",
       "           n_jobs=1, penalty='l2', random_state=0, solver='lbfgs',\n",
       "           tol=0.0001, verbose=0, warm_start=False))"
      ]
     },
     "execution_count": 15,
     "metadata": {},
     "output_type": "execute_result"
    }
   ],
   "source": [
    "classify(finalData,originalData,displayOutcome=True)"
   ]
  },
  {
   "cell_type": "code",
   "execution_count": 16,
   "metadata": {
    "scrolled": true
   },
   "outputs": [
    {
     "name": "stdout",
     "output_type": "stream",
     "text": [
      "Over  1000  iterations, the classifier predicted  104927 outcomes correctly out of  108390 total data points for an overall accuracy of  0.96805055817 .\n",
      "Of the  5579  All-Stars that were classified,  3494  were correctly identified, for an accuracy of  0.626277110593 .\n"
     ]
    }
   ],
   "source": [
    "#Test classifier by running it many times, and examining its accuracy\n",
    "def testClassifier1(its,df,ogdf=originalData):\n",
    "    correct=0\n",
    "    total=0\n",
    "    correctAllStars=0\n",
    "    totAllStars=0\n",
    "\n",
    "    for i in xrange(its):\n",
    "        clf=classify(df,ogdf,displayOutcome=False)\n",
    "        correct+=clf[0]\n",
    "        total+=clf[1]\n",
    "        totAllStars+=clf[2]\n",
    "        correctAllStars+=clf[3]\n",
    "    totAcc = 1.0*correct/total\n",
    "    asAcc = 1.0*correctAllStars/totAllStars\n",
    "    \n",
    "    print \"Over \", its, \" iterations, the classifier predicted \",correct, \"outcomes correctly out of \", total, \"total data points for an overall accuracy of \", totAcc ,\".\"\n",
    "    print \"Of the \", totAllStars, \" All-Stars that were classified, \", correctAllStars, \" were correctly identified, for an accuracy of \", asAcc, \".\" \n",
    "testClassifier1(1000, finalData)"
   ]
  },
  {
   "cell_type": "markdown",
   "metadata": {
    "collapsed": true
   },
   "source": [
    "### Making A More Relevant Model\n",
    "During the Logistic Regression, likelihood values between 0 and 1 are assigned to each player of the testing data, and a likelihood greater than 0.5 is classified as an All-Star. However, if we know there are 6 All-Stars in the testing data, it would be more relevant to find the 6 players most likely to be all-stars.\n",
    "\n",
    " - Adjust classifying function to return a more relevant result\n",
    " - Previously we see an extremely high overall accuracy\n",
    "     - It must be relatively easy for the classifier to determing  that most players are not all-stars\n",
    "     - It should be more important to focus instead on only the All-Star accuracy, which ignores non-All-Stars who are correctly classified"
   ]
  },
  {
   "cell_type": "code",
   "execution_count": 17,
   "metadata": {
    "collapsed": true
   },
   "outputs": [],
   "source": [
    "#@param df is the data with duplicate names removed, and the appropriate columns dropped (player names, etc.)\n",
    "#@param original_df is the data with duplicate names removed as returned from prepareDF\n",
    "#@param testing determines whether or not the function should print outputs, and return certain variables\n",
    "def classifyTopX(df, original_df=originalData,testing=False):\n",
    "    msk = np.random.rand(len(df)) < 0.8\n",
    "    testing_flags = [ASFlag[i] for i in xrange(len(ASFlag)) if not msk[i]]\n",
    "    numAllStars = sum(testing_flags) #number of allstars we want (we'll find the best numAllStars)\n",
    "    #training set should have at least 20 of the 28 all stars in it\n",
    "    if numAllStars>8:\n",
    "        return 0,0,0,\"\"\n",
    "    else:\n",
    "        if not testing:\n",
    "            print \"We need to predict \" + str(numAllStars) + \" more All_Stars.\"\n",
    "        train = df[msk]\n",
    "        training_flags = [ASFlag[i] for i in xrange(len(ASFlag)) if msk[i]]\n",
    "        test = df[~msk]\n",
    "        clf2 = LogisticRegression(random_state=0, solver='lbfgs', multi_class='multinomial').fit(train, training_flags)  \n",
    "        realAllStars=[original_df.iloc[test.index[i],0] for i in xrange(len(test)) if original_df.iloc[test.index[i],0] in all_stars]\n",
    "        if not testing:\n",
    "            print \"Correct Answers are:\"\n",
    "            for each in realAllStars:\n",
    "                print each\n",
    "        #Determine likelihoods (between 0 and 1) for each player\n",
    "        likelihoods=clf2.predict_proba(test)\n",
    "        #Sort likelihoods, while keeping the index, which we can use to fetch the player's name\n",
    "        posLikelihood=[(likelihoods[i][1],i) for i in xrange(len(likelihoods))]\n",
    "        top=sorted(posLikelihood,reverse=True)\n",
    "        #compile the likelihoods with player names into a data frame\n",
    "        t2=[list((original_df.iloc[test.index[indx],0],likelihood)) for likelihood,indx in top]  \n",
    "        #Also include the 5 runner-ups so we can visualize how close it is / if the  runner ups are understandable\n",
    "        resultsDF=pd.DataFrame(t2,columns=[\"Name\",\"Likelihood\"]).head(numAllStars+5)      \n",
    "        predictions = [t2[i][0] for i in xrange(numAllStars)]\n",
    "        numCorrect=0\n",
    "        correctAS=[]\n",
    "        wrong=[]\n",
    "        #list of wrong tuples, in order of predicted then actual\n",
    "        for i in xrange(numAllStars):\n",
    "            if predictions[i] in realAllStars:\n",
    "                numCorrect+=1\n",
    "                correctAS.append(predictions[i])\n",
    "            else:\n",
    "                wrong.append(predictions[i])\n",
    "\n",
    "        if not testing:\n",
    "            print \"We predicted \" +str(numCorrect) +\" correctly out of \" + str(numAllStars)+\".\"\n",
    "            print \"Our \"+ str(numAllStars) + \" predictions, with the next 5 best predictions are outputted below:\"\n",
    "    if testing==True:\n",
    "        return [resultsDF,numCorrect,numAllStars,wrong,clf2]\n",
    "    #return the classifier so we can use it to predict next season if desired\n",
    "    return  resultsDF,clf2\n"
   ]
  },
  {
   "cell_type": "code",
   "execution_count": 18,
   "metadata": {},
   "outputs": [
    {
     "name": "stdout",
     "output_type": "stream",
     "text": [
      "We need to predict 6 more All_Stars.\n",
      "Correct Answers are:\n",
      "DeMar DeRozan\n",
      "LeBron James\n",
      "Damian Lillard\n",
      "Victor Oladipo\n",
      "John Wall\n",
      "Russell Westbrook\n",
      "We predicted 4 correctly out of 6.\n",
      "Our 6 predictions, with the next 5 best predictions are outputted below:\n"
     ]
    },
    {
     "data": {
      "text/html": [
       "<div>\n",
       "<style>\n",
       "    .dataframe thead tr:only-child th {\n",
       "        text-align: right;\n",
       "    }\n",
       "\n",
       "    .dataframe thead th {\n",
       "        text-align: left;\n",
       "    }\n",
       "\n",
       "    .dataframe tbody tr th {\n",
       "        vertical-align: top;\n",
       "    }\n",
       "</style>\n",
       "<table border=\"1\" class=\"dataframe\">\n",
       "  <thead>\n",
       "    <tr style=\"text-align: right;\">\n",
       "      <th></th>\n",
       "      <th>Name</th>\n",
       "      <th>Likelihood</th>\n",
       "    </tr>\n",
       "  </thead>\n",
       "  <tbody>\n",
       "    <tr>\n",
       "      <th>0</th>\n",
       "      <td>LeBron James</td>\n",
       "      <td>0.991962</td>\n",
       "    </tr>\n",
       "    <tr>\n",
       "      <th>1</th>\n",
       "      <td>Damian Lillard</td>\n",
       "      <td>0.952726</td>\n",
       "    </tr>\n",
       "    <tr>\n",
       "      <th>2</th>\n",
       "      <td>Russell Westbrook</td>\n",
       "      <td>0.947232</td>\n",
       "    </tr>\n",
       "    <tr>\n",
       "      <th>3</th>\n",
       "      <td>Nikola Jokic</td>\n",
       "      <td>0.891141</td>\n",
       "    </tr>\n",
       "    <tr>\n",
       "      <th>4</th>\n",
       "      <td>Chris Paul</td>\n",
       "      <td>0.854222</td>\n",
       "    </tr>\n",
       "    <tr>\n",
       "      <th>5</th>\n",
       "      <td>John Wall</td>\n",
       "      <td>0.632471</td>\n",
       "    </tr>\n",
       "    <tr>\n",
       "      <th>6</th>\n",
       "      <td>Victor Oladipo</td>\n",
       "      <td>0.608919</td>\n",
       "    </tr>\n",
       "    <tr>\n",
       "      <th>7</th>\n",
       "      <td>Ben Simmons</td>\n",
       "      <td>0.519730</td>\n",
       "    </tr>\n",
       "    <tr>\n",
       "      <th>8</th>\n",
       "      <td>Marc Gasol</td>\n",
       "      <td>0.490622</td>\n",
       "    </tr>\n",
       "    <tr>\n",
       "      <th>9</th>\n",
       "      <td>Lou Williams</td>\n",
       "      <td>0.468690</td>\n",
       "    </tr>\n",
       "    <tr>\n",
       "      <th>10</th>\n",
       "      <td>DeAndre Jordan</td>\n",
       "      <td>0.426789</td>\n",
       "    </tr>\n",
       "  </tbody>\n",
       "</table>\n",
       "</div>"
      ],
      "text/plain": [
       "                 Name  Likelihood\n",
       "0        LeBron James    0.991962\n",
       "1      Damian Lillard    0.952726\n",
       "2   Russell Westbrook    0.947232\n",
       "3        Nikola Jokic    0.891141\n",
       "4          Chris Paul    0.854222\n",
       "5           John Wall    0.632471\n",
       "6      Victor Oladipo    0.608919\n",
       "7         Ben Simmons    0.519730\n",
       "8          Marc Gasol    0.490622\n",
       "9        Lou Williams    0.468690\n",
       "10     DeAndre Jordan    0.426789"
      ]
     },
     "execution_count": 18,
     "metadata": {},
     "output_type": "execute_result"
    }
   ],
   "source": [
    "clf2=classifyTopX(finalData, testing=False)\n",
    "clf2[0]"
   ]
  },
  {
   "cell_type": "code",
   "execution_count": 19,
   "metadata": {
    "collapsed": true
   },
   "outputs": [],
   "source": [
    "#to allow sorting by number of false allstars\n",
    "def sum_repeats(l):\n",
    "    if len(l)==0:\n",
    "        return 0\n",
    "    d=[]\n",
    "    for entry in l:\n",
    "        try:\n",
    "            index=[each[0]for each in d].index(entry)\n",
    "            d[index][1]+=1\n",
    "        except ValueError:\n",
    "            d.append([entry,1])\n",
    "    return d"
   ]
  },
  {
   "cell_type": "code",
   "execution_count": 20,
   "metadata": {},
   "outputs": [
    {
     "name": "stdout",
     "output_type": "stream",
     "text": [
      "Over 1000 iterations, the classifier predicted 3240 All-Stars correctly out of 4681 total attempts.\n",
      "The classifier had an overall accuracy of 0.692159794916.\n"
     ]
    },
    {
     "data": {
      "text/plain": [
       "[[u'Blake Griffin', 190],\n",
       " [u'Nikola Jokic', 162],\n",
       " [u'Devin Booker', 158],\n",
       " [u'Chris Paul', 156],\n",
       " [u'MarShon Brooks', 125],\n",
       " [u'Lou Williams', 113],\n",
       " [u'Marc Gasol', 85],\n",
       " [u'Ben Simmons', 70],\n",
       " [u'Tyreke Evans', 69],\n",
       " [u'Jrue Holiday', 49],\n",
       " [u'Aaron Gordon', 37],\n",
       " [u'Rudy Gobert', 34],\n",
       " [u'Nikola Vucevic', 32],\n",
       " [u'CJ McCollum', 31],\n",
       " [u'Dwight Howard', 31],\n",
       " [u'Clint Capela', 12],\n",
       " [u'Nikola Mirotic', 12],\n",
       " [u'Tobias Harris', 12],\n",
       " [u'Harrison Barnes', 8],\n",
       " [u'Khris Middleton', 8],\n",
       " [u'DeAndre Jordan', 7],\n",
       " [u'Eric Bledsoe', 6],\n",
       " [u'Kawhi Leonard', 5],\n",
       " [u'Hassan Whiteside', 5],\n",
       " [u'Eric Gordon', 4],\n",
       " [u'Mike Conley', 3],\n",
       " [u'Paul Millsap', 2],\n",
       " [u'T.J. Warren', 2],\n",
       " [u'Dennis Schroder', 2],\n",
       " [u'Andre Ingram', 2],\n",
       " [u'Donovan Mitchell', 2],\n",
       " [u'Lauri Markkanen', 1],\n",
       " [u'Kyle Kuzma', 1],\n",
       " [u'Carmelo Anthony', 1],\n",
       " [u'J.J. Redick', 1],\n",
       " [u'Lonzo Ball', 1],\n",
       " [u'Otto Porter', 1],\n",
       " [u'Jeremy Lin', 1]]"
      ]
     },
     "execution_count": 20,
     "metadata": {},
     "output_type": "execute_result"
    }
   ],
   "source": [
    "def testClassifier2(its,df,ogdf=originalData,output=True):\n",
    "    correct=0\n",
    "    total=0\n",
    "    compile_wrongs=[]\n",
    "    for i in xrange(its):\n",
    "        clf=classifyTopX(df,ogdf,testing=True)\n",
    "        correct+=clf[1]\n",
    "        total+=clf[2]\n",
    "        if len(clf[3])>0:\n",
    "            for each in clf[3]:\n",
    "                compile_wrongs.append(each)\n",
    "    totAcc = 1.0*correct/total\n",
    "    \n",
    "    print \"Over \" + str(its) + \" iterations, the classifier predicted \" + str(correct) + \" All-Stars correctly out of \" +str(total) + \" total attempts.\" \n",
    "    print \"The classifier had an overall accuracy of \" + str(totAcc) + \".\"\n",
    "    if output==True:\n",
    "        return compile_wrongs\n",
    "sorted(sum_repeats(testClassifier2(1000, finalData)),key=getKey,reverse=True)"
   ]
  },
  {
   "cell_type": "markdown",
   "metadata": {},
   "source": [
    "### Common False Positives:\n",
    "Jokic -  18.5 PTS / 10.7 REB /6.1 AST\n",
    "\n",
    "Chris Paul - 18.6 / 5.4 / 7.9 \n",
    "\n",
    "Marc Gasol - 17.3 / 8.1 / 4.2\n",
    "\n",
    "Ben Simmons - 15.8 / 8.1 / 8.2\n",
    "\n",
    "Devin Booker - 24.9 / 4.5 / 4.7\n",
    "\n",
    "Lou Williams - 22.6 / 2.5 / 5.3\n",
    "\n",
    "\n",
    "### Performance\n",
    "\n",
    " - The first classifier prodicts All-Stars correctly with roughly 62% accuracy. When it knows how many All-Stars it is looking for, this increases to around 69% accuracy.\n",
    " - The common false positives that repeatedly showed up definitely had All-Star numbers, and all had strong cases to make the team last year, with the possible exceptions of Marshon Brooks and Tyreke Evans.\n",
    " - Overall, the classifier is working as intended.\n"
   ]
  },
  {
   "cell_type": "markdown",
   "metadata": {},
   "source": [
    "### Potential Adjustments\n",
    "\n",
    "We are now ready to use our model to predict the All-Stars for the 2018-2019 season, however, if there is room to improve our model's accuracy we must look into it.\n",
    " - Try different combinations of parameters. Previously we dropped Minutes Played, Offensive Rebounds, Defensive Rebounds, Age, Games, and Games Started from consideration\n",
    " \n",
    "### Investigation Into Games as a Viable Predictor"
   ]
  },
  {
   "cell_type": "code",
   "execution_count": 17,
   "metadata": {},
   "outputs": [
    {
     "name": "stdout",
     "output_type": "stream",
     "text": [
      "Over 1000 iterations, the classifier predicted 3376 All-Stars correctly out of 4697 total attempts.\n",
      "The classifier had an overall accuracy of 0.718756653183.\n"
     ]
    }
   ],
   "source": [
    "#Adjustment  1 -- Keeping games and games started -- ~72 Accuracy\n",
    "dataAdjustment1=originalData.drop(['Player','MP','Tm', 'ORB','DRB','Age','Pos'],axis=1)  \n",
    "testClassifier2(1000, dataAdjustment1,output=False)"
   ]
  },
  {
   "cell_type": "code",
   "execution_count": 18,
   "metadata": {},
   "outputs": [
    {
     "name": "stdout",
     "output_type": "stream",
     "text": [
      "Over 1000 iterations, the classifier predicted 3365 All-Stars correctly out of 4736 total attempts.\n",
      "The classifier had an overall accuracy of 0.710515202703.\n"
     ]
    }
   ],
   "source": [
    "#Adjustment  2 -- Replacing Games and Games Started with startedPercent -- ~71% Accuracy\n",
    "gs=[int(i) for i in originalData['GS']]\n",
    "g=[int(i) for i in originalData['G']]\n",
    "\n",
    "startPercent=[gs[i]*1.0/g[i] for i in xrange(len(g))]\n",
    "originalData['startPercent']=startPercent\n",
    "dataAdjustment2=originalData.drop(['Player','MP','Tm', 'ORB','DRB','Age','Pos','G','GS'],axis=1)  \n",
    "testClassifier2(1000, dataAdjustment2,output=False)\n",
    "\n",
    "#Reset originalData to its initial state (without startPercent)\n",
    "originalData=prepareDF(df)"
   ]
  },
  {
   "cell_type": "code",
   "execution_count": 19,
   "metadata": {},
   "outputs": [
    {
     "name": "stdout",
     "output_type": "stream",
     "text": [
      "Over 1000 iterations, the classifier predicted 3355 All-Stars correctly out of 4629 total attempts.\n",
      "The classifier had an overall accuracy of 0.724778569886.\n"
     ]
    }
   ],
   "source": [
    "#Adjustment  3 --Just Games Started -- ~72.5% Accuracy\n",
    "\n",
    "dataAdjustment3=originalData.drop(['Player','MP','Tm', 'ORB','DRB','Age','Pos','G',],axis=1)  \n",
    "testClassifier2(1000, dataAdjustment3,output=False)"
   ]
  },
  {
   "cell_type": "code",
   "execution_count": 21,
   "metadata": {},
   "outputs": [
    {
     "name": "stdout",
     "output_type": "stream",
     "text": [
      "Over 1000 iterations, the classifier predicted 3221 All-Stars correctly out of 4666 total attempts.\n",
      "The classifier had an overall accuracy of 0.690312901843.\n"
     ]
    }
   ],
   "source": [
    "#Adjustment  4 --Just Games -- ~69% Accuracy\n",
    "\n",
    "dataAdjustment4=originalData.drop(['Player','MP','Tm', 'ORB','DRB','Age','Pos','GS',],axis=1)  \n",
    "testClassifier2(1000, dataAdjustment4,output=False)"
   ]
  },
  {
   "cell_type": "markdown",
   "metadata": {},
   "source": [
    "### Preliminary Results\n",
    "\n",
    "The difference between keeping Games and Games started and just using Games Started is hardly significant. We will proceed by keeping just Games Started to Simplify our model.\n",
    "\n",
    "| Model          | Accuracy |  \n",
    "|:----------------:|:----------:|\n",
    "| Games          | 69%        | \n",
    "| Neither | 70%        |  \n",
    "| startedPercent        | 71%       |   \n",
    "| Games and Games Started        | 72%       |  \n",
    "| Games Started        | 72.5%       |   \n",
    "\n",
    "### Field Goal% vs Attempts and Made\n"
   ]
  },
  {
   "cell_type": "code",
   "execution_count": 22,
   "metadata": {},
   "outputs": [
    {
     "name": "stdout",
     "output_type": "stream",
     "text": [
      "Over 1000 iterations, the classifier predicted 3493 All-Stars correctly out of 4826 total attempts.\n",
      "The classifier had an overall accuracy of 0.723787815997.\n"
     ]
    }
   ],
   "source": [
    "#Adjustment  5 -- Removing 2P% -- 72.4%\n",
    "\n",
    "dataAdjustment5=originalData.drop(['Player','MP','Tm', 'ORB','DRB','Age','Pos','2P%','G'],axis=1)  \n",
    "testClassifier2(1000, dataAdjustment5,output=False)"
   ]
  },
  {
   "cell_type": "code",
   "execution_count": 23,
   "metadata": {},
   "outputs": [
    {
     "name": "stdout",
     "output_type": "stream",
     "text": [
      "Over 1000 iterations, the classifier predicted 3440 All-Stars correctly out of 4811 total attempts.\n",
      "The classifier had an overall accuracy of 0.715028060694.\n"
     ]
    }
   ],
   "source": [
    "#Adjustment  6 -- Removing 2PA and 2P --71.5%\n",
    "\n",
    "dataAdjustment6=originalData.drop(['Player','MP','Tm', 'ORB','DRB','Age','Pos','2PA','2P','G'],axis=1)  \n",
    "testClassifier2(1000, dataAdjustment6,output=False)"
   ]
  },
  {
   "cell_type": "code",
   "execution_count": 24,
   "metadata": {},
   "outputs": [
    {
     "name": "stdout",
     "output_type": "stream",
     "text": [
      "Over 1000 iterations, the classifier predicted 3388 All-Stars correctly out of 4749 total attempts.\n",
      "The classifier had an overall accuracy of 0.713413350179.\n"
     ]
    }
   ],
   "source": [
    "#Adjustment  7 -- Only Keeping 2PM -- 71.3%\n",
    "\n",
    "dataAdjustment7=originalData.drop(['Player','MP','Tm', 'ORB','DRB','Age','Pos','2PA','2P%','G'],axis=1)  \n",
    "testClassifier2(1000, dataAdjustment7,output=False)"
   ]
  },
  {
   "cell_type": "code",
   "execution_count": 25,
   "metadata": {},
   "outputs": [
    {
     "name": "stdout",
     "output_type": "stream",
     "text": [
      "Over 1000 iterations, the classifier predicted 3371 All-Stars correctly out of 4706 total attempts.\n",
      "The classifier had an overall accuracy of 0.71631959201.\n"
     ]
    }
   ],
   "source": [
    "#Adjustment  7_b -- no 2P data -- 71.6%\n",
    "\n",
    "dataAdjustment7_b=originalData.drop(['Player','MP','Tm', 'ORB','DRB','Age','Pos','2PA','2P','2P%','G'],axis=1)  \n",
    "testClassifier2(1000, dataAdjustment7_b,output=False)"
   ]
  },
  {
   "cell_type": "markdown",
   "metadata": {},
   "source": [
    "### Takeaways\n",
    "\n",
    " - Removing 2P% has no significant effect on the model, as expected\n",
    " - Removing 2PA and 2P produces similar results to removing 2P% and 2PA, and competely ignoring 2-pointer data\n",
    " - Removing 2P% is the only model that doesn't see a decrease in accuracy\n",
    " \n",
    "We will proceed with Adjustment 5, as it simplified our model while maintaining a similar level of accuracy\n",
    "\n",
    "### Repeat this process with Free Throws, and 3-Pointers, comparing to a baseline of ~72.5%"
   ]
  },
  {
   "cell_type": "code",
   "execution_count": 32,
   "metadata": {},
   "outputs": [
    {
     "name": "stdout",
     "output_type": "stream",
     "text": [
      "Removing FT%\n",
      "Over 1000 iterations, the classifier predicted 3316 All-Stars correctly out of 4713 total attempts.\n",
      "The classifier had an overall accuracy of 0.703585826438.\n",
      "\n",
      "Removing FT, FTA\n",
      "Over 1000 iterations, the classifier predicted 3375 All-Stars correctly out of 4711 total attempts.\n",
      "The classifier had an overall accuracy of 0.716408405859.\n",
      "\n",
      "Removing FT, FTA, FT%'\n",
      "Over 1000 iterations, the classifier predicted 3540 All-Stars correctly out of 4825 total attempts.\n",
      "The classifier had an overall accuracy of 0.733678756477.\n"
     ]
    }
   ],
   "source": [
    "#Adjustments 8 -10 -- Free Throws and 3-Pointers\n",
    "print \"Removing FT%\"\n",
    "dataAdjustment8=originalData.drop(['Player','Tm','MP', 'ORB','DRB','Age','Pos','2P%','FT%' ,'G'],axis=1)  \n",
    "testClassifier2(1000, dataAdjustment8,output=False)\n",
    "\n",
    "print \"\\nRemoving FT, FTA\"\n",
    "dataAdjustment9=originalData.drop(['Player','Tm', 'MP','ORB','DRB','Age','Pos','2P%','FT','FTA','G'],axis=1)  \n",
    "testClassifier2(1000, dataAdjustment9,output=False)\n",
    "\n",
    "print \"\\nRemoving FT, FTA, FT%'\"\n",
    "dataAdjustment10=originalData.drop(['Player','Tm','MP', 'ORB','DRB','Age','Pos','2P%','FT','FTA','FT%','G'],axis=1)  \n",
    "testClassifier2(1000, dataAdjustment10,output=False)"
   ]
  },
  {
   "cell_type": "markdown",
   "metadata": {},
   "source": [
    "### Takeaways\n",
    "- Removing all free throw related stats improves out model to 73.3% accuracy\n",
    "- Moving forward we will ignore all free throw related stats. A simpler model is preferable to a more complicated one"
   ]
  },
  {
   "cell_type": "code",
   "execution_count": 34,
   "metadata": {},
   "outputs": [
    {
     "name": "stdout",
     "output_type": "stream",
     "text": [
      "Removing 3P% 3PA\n",
      "Over 1000 iterations, the classifier predicted 3445 All-Stars correctly out of 4718 total attempts.\n",
      "The classifier had an overall accuracy of 0.730182280627.\n",
      "\n",
      "Removing 3P, 3PA\n",
      "Over 1000 iterations, the classifier predicted 3361 All-Stars correctly out of 4687 total attempts.\n",
      "The classifier had an overall accuracy of 0.717089822914.\n",
      "\n",
      "Removing 3P, 3PA, 3P%\n",
      "Over 1000 iterations, the classifier predicted 3427 All-Stars correctly out of 4675 total attempts.\n",
      "The classifier had an overall accuracy of 0.733048128342.\n"
     ]
    }
   ],
   "source": [
    "#Adjustments 11-13 -- Free Throws and 3-Pointers\n",
    "print \"Removing 3P% 3PA\"\n",
    "dataAdjustment11=originalData.drop(['Player','Tm', 'MP','ORB','DRB','Age','Pos','2P%','FT','FTA','FT%','3P%', '3PA','G'],axis=1)  \n",
    "testClassifier2(1000, dataAdjustment11,output=False)\n",
    "\n",
    "print \"\\nRemoving 3P, 3PA\"\n",
    "dataAdjustment12=originalData.drop(['Player','Tm','MP', 'ORB','DRB','Age','Pos','2P%','FT','FTA','FT%','3P','3PA','G'],axis=1)  \n",
    "testClassifier2(1000, dataAdjustment12,output=False)\n",
    "\n",
    "print \"\\nRemoving 3P, 3PA, 3P%\"\n",
    "dataAdjustment13=originalData.drop(['Player','Tm','MP', 'ORB','DRB','Age','Pos','2P%','FT','FTA','FT%','3P','3PA','3P%','G'],axis=1)  \n",
    "testClassifier2(1000, dataAdjustment13,output=False)\n",
    "\n"
   ]
  },
  {
   "cell_type": "markdown",
   "metadata": {},
   "source": [
    " - Again, we see that these percentages just don't seem to help our classifier much, so we can ignore them completely.\n",
    " \n",
    "## Minutes Played and Personal Fouls"
   ]
  },
  {
   "cell_type": "code",
   "execution_count": 36,
   "metadata": {},
   "outputs": [
    {
     "name": "stdout",
     "output_type": "stream",
     "text": [
      "Keeping MP\n",
      "Over 1000 iterations, the classifier predicted 3394 All-Stars correctly out of 4686 total attempts.\n",
      "The classifier had an overall accuracy of 0.724285104567.\n"
     ]
    }
   ],
   "source": [
    "print \"Keeping MP\"\n",
    "dataAdjustment14=originalData.drop(['Player','Tm', 'ORB','DRB','Age','Pos','2P%','FT','FTA','FT%','3P','3PA','3P%','G'],axis=1)  \n",
    "testClassifier2(1000, dataAdjustment14,output=False)"
   ]
  },
  {
   "cell_type": "markdown",
   "metadata": {},
   "source": [
    " - This model showed no improvement, so we will continue ignoring minutes played"
   ]
  },
  {
   "cell_type": "code",
   "execution_count": 37,
   "metadata": {},
   "outputs": [
    {
     "name": "stdout",
     "output_type": "stream",
     "text": [
      "Removing Fouls\n",
      "Over 1000 iterations, the classifier predicted 3456 All-Stars correctly out of 4743 total attempts.\n",
      "The classifier had an overall accuracy of 0.728652751423.\n"
     ]
    }
   ],
   "source": [
    "print \"Removing Fouls\"\n",
    "dataAdjustment15=originalData.drop(['Player','Tm', 'MP','ORB','DRB','Age','Pos','2P%','FT','FTA','PF','3P','3PA','3P%','PF','G'],axis=1)  \n",
    "testClassifier2(1000, dataAdjustment15,output=False)"
   ]
  },
  {
   "cell_type": "markdown",
   "metadata": {},
   "source": [
    " - This model is quite good, but overall slightly less accurate than the 73.3% we have seen"
   ]
  },
  {
   "cell_type": "code",
   "execution_count": 38,
   "metadata": {},
   "outputs": [
    {
     "name": "stdout",
     "output_type": "stream",
     "text": [
      "Removing eFG%\n",
      "\n",
      "Over 1000 iterations, the classifier predicted 3489 All-Stars correctly out of 4807 total attempts.\n",
      "The classifier had an overall accuracy of 0.725816517579.\n"
     ]
    }
   ],
   "source": [
    "print \"Removing eFG%\\n\"\n",
    "dataAdjustment16=originalData.drop(['Player','Tm', 'MP','ORB','DRB','Age','Pos','2P%','2PA','FT','FTA','3P','3PA','3P%','PF','eFG%','G'],axis=1)  \n",
    "testClassifier2(1000, dataAdjustment16,output=False)"
   ]
  },
  {
   "cell_type": "markdown",
   "metadata": {},
   "source": [
    " - Removing effective Field Goal Percentage definitely did not improve our model.\n",
    " - There are hundreds of possible combinations of parameters we could check, but these seemed like the most reasonable to test and compare\n",
    " - We will proceed by using dataAdjustment13 as the data to train our classifier with\n",
    " "
   ]
  },
  {
   "cell_type": "markdown",
   "metadata": {},
   "source": [
    "## Predicting the 2018-2019 All-Stars\n",
    " - Gather data for the 2018-2019 season (up end of day 1/27/2019)\n",
    " - We will now use all of the data from 2017-2018 to train the classifer instead of splitting it 80/20\n",
    " - insert the 2018-2019 season data as the testing data, and predict the All-Star teams for this year"
   ]
  },
  {
   "cell_type": "code",
   "execution_count": 39,
   "metadata": {
    "collapsed": true
   },
   "outputs": [],
   "source": [
    "#get 2018-2019 data \n",
    "data2019=gather_data('https://www.basketball-reference.com/leagues/NBA_2019_per_game.html')"
   ]
  },
  {
   "cell_type": "code",
   "execution_count": 40,
   "metadata": {
    "collapsed": true
   },
   "outputs": [],
   "source": [
    "og2019=prepareDF(data2019)"
   ]
  },
  {
   "cell_type": "code",
   "execution_count": 42,
   "metadata": {
    "collapsed": true
   },
   "outputs": [],
   "source": [
    "cleaned_2019=og2019.drop(['Player','Tm','MP', 'ORB','DRB','Age','Pos','2P%','FT','FTA','FT%','3P','3PA','3P%','G'],axis=1)"
   ]
  },
  {
   "cell_type": "code",
   "execution_count": 45,
   "metadata": {
    "scrolled": false
   },
   "outputs": [
    {
     "data": {
      "text/html": [
       "<div>\n",
       "<style>\n",
       "    .dataframe thead tr:only-child th {\n",
       "        text-align: right;\n",
       "    }\n",
       "\n",
       "    .dataframe thead th {\n",
       "        text-align: left;\n",
       "    }\n",
       "\n",
       "    .dataframe tbody tr th {\n",
       "        vertical-align: top;\n",
       "    }\n",
       "</style>\n",
       "<table border=\"1\" class=\"dataframe\">\n",
       "  <thead>\n",
       "    <tr style=\"text-align: right;\">\n",
       "      <th></th>\n",
       "      <th>Name</th>\n",
       "      <th>Likelihood</th>\n",
       "    </tr>\n",
       "  </thead>\n",
       "  <tbody>\n",
       "    <tr>\n",
       "      <th>0</th>\n",
       "      <td>James Harden</td>\n",
       "      <td>0.986255</td>\n",
       "    </tr>\n",
       "    <tr>\n",
       "      <th>1</th>\n",
       "      <td>Anthony Davis</td>\n",
       "      <td>0.984148</td>\n",
       "    </tr>\n",
       "    <tr>\n",
       "      <th>2</th>\n",
       "      <td>Kevin Durant</td>\n",
       "      <td>0.930875</td>\n",
       "    </tr>\n",
       "    <tr>\n",
       "      <th>3</th>\n",
       "      <td>Stephen Curry</td>\n",
       "      <td>0.901792</td>\n",
       "    </tr>\n",
       "    <tr>\n",
       "      <th>4</th>\n",
       "      <td>LeBron James</td>\n",
       "      <td>0.896558</td>\n",
       "    </tr>\n",
       "    <tr>\n",
       "      <th>5</th>\n",
       "      <td>Joel Embiid</td>\n",
       "      <td>0.888503</td>\n",
       "    </tr>\n",
       "    <tr>\n",
       "      <th>6</th>\n",
       "      <td>Damian Lillard</td>\n",
       "      <td>0.861167</td>\n",
       "    </tr>\n",
       "    <tr>\n",
       "      <th>7</th>\n",
       "      <td>Kawhi Leonard</td>\n",
       "      <td>0.816900</td>\n",
       "    </tr>\n",
       "    <tr>\n",
       "      <th>8</th>\n",
       "      <td>Paul George</td>\n",
       "      <td>0.778828</td>\n",
       "    </tr>\n",
       "    <tr>\n",
       "      <th>9</th>\n",
       "      <td>Kemba Walker</td>\n",
       "      <td>0.778414</td>\n",
       "    </tr>\n",
       "    <tr>\n",
       "      <th>10</th>\n",
       "      <td>Giannis Antetokounmpo</td>\n",
       "      <td>0.764735</td>\n",
       "    </tr>\n",
       "    <tr>\n",
       "      <th>11</th>\n",
       "      <td>Karl-Anthony Towns</td>\n",
       "      <td>0.671270</td>\n",
       "    </tr>\n",
       "    <tr>\n",
       "      <th>12</th>\n",
       "      <td>Blake Griffin</td>\n",
       "      <td>0.667103</td>\n",
       "    </tr>\n",
       "    <tr>\n",
       "      <th>13</th>\n",
       "      <td>Kyrie Irving</td>\n",
       "      <td>0.621997</td>\n",
       "    </tr>\n",
       "    <tr>\n",
       "      <th>14</th>\n",
       "      <td>Nikola Vucevic</td>\n",
       "      <td>0.610415</td>\n",
       "    </tr>\n",
       "    <tr>\n",
       "      <th>15</th>\n",
       "      <td>Nikola Jokic</td>\n",
       "      <td>0.602524</td>\n",
       "    </tr>\n",
       "    <tr>\n",
       "      <th>16</th>\n",
       "      <td>Jrue Holiday</td>\n",
       "      <td>0.538396</td>\n",
       "    </tr>\n",
       "    <tr>\n",
       "      <th>17</th>\n",
       "      <td>Luka Doncic</td>\n",
       "      <td>0.533487</td>\n",
       "    </tr>\n",
       "    <tr>\n",
       "      <th>18</th>\n",
       "      <td>Mike Conley</td>\n",
       "      <td>0.521964</td>\n",
       "    </tr>\n",
       "    <tr>\n",
       "      <th>19</th>\n",
       "      <td>Rudy Gobert</td>\n",
       "      <td>0.490964</td>\n",
       "    </tr>\n",
       "    <tr>\n",
       "      <th>20</th>\n",
       "      <td>Bradley Beal</td>\n",
       "      <td>0.471376</td>\n",
       "    </tr>\n",
       "    <tr>\n",
       "      <th>21</th>\n",
       "      <td>John Wall</td>\n",
       "      <td>0.439687</td>\n",
       "    </tr>\n",
       "    <tr>\n",
       "      <th>22</th>\n",
       "      <td>Russell Westbrook</td>\n",
       "      <td>0.418759</td>\n",
       "    </tr>\n",
       "    <tr>\n",
       "      <th>23</th>\n",
       "      <td>Kyle Lowry</td>\n",
       "      <td>0.403725</td>\n",
       "    </tr>\n",
       "  </tbody>\n",
       "</table>\n",
       "</div>"
      ],
      "text/plain": [
       "                     Name  Likelihood\n",
       "0            James Harden    0.986255\n",
       "1           Anthony Davis    0.984148\n",
       "2            Kevin Durant    0.930875\n",
       "3           Stephen Curry    0.901792\n",
       "4            LeBron James    0.896558\n",
       "5             Joel Embiid    0.888503\n",
       "6          Damian Lillard    0.861167\n",
       "7           Kawhi Leonard    0.816900\n",
       "8             Paul George    0.778828\n",
       "9            Kemba Walker    0.778414\n",
       "10  Giannis Antetokounmpo    0.764735\n",
       "11     Karl-Anthony Towns    0.671270\n",
       "12          Blake Griffin    0.667103\n",
       "13           Kyrie Irving    0.621997\n",
       "14         Nikola Vucevic    0.610415\n",
       "15           Nikola Jokic    0.602524\n",
       "16           Jrue Holiday    0.538396\n",
       "17            Luka Doncic    0.533487\n",
       "18            Mike Conley    0.521964\n",
       "19            Rudy Gobert    0.490964\n",
       "20           Bradley Beal    0.471376\n",
       "21              John Wall    0.439687\n",
       "22      Russell Westbrook    0.418759\n",
       "23             Kyle Lowry    0.403725"
      ]
     },
     "execution_count": 45,
     "metadata": {},
     "output_type": "execute_result"
    }
   ],
   "source": [
    "clf_final = LogisticRegression(random_state=0, solver='lbfgs', multi_class='multinomial').fit(dataAdjustment13, ASFlag)  \n",
    "probs=clf_final.predict_proba(cleaned_2019)\n",
    "posLikelihood_2019=[(probs[i][1],i) for i in xrange(len(probs))]\n",
    "sortedLikelihoods=sorted(posLikelihood_2019,reverse=True)\n",
    "playerWeights = [list((og2019.iloc[cleaned_2019.index[indx],0],likelihood)) for likelihood,indx in sortedLikelihoods]\n",
    "df2019=pd.DataFrame(playerWeights, columns=[\"Name\",\"Likelihood\"])\n",
    "df2019.head(24)"
   ]
  },
  {
   "cell_type": "markdown",
   "metadata": {},
   "source": [
    "## Results\n",
    "\n",
    "Overall, the 24 predicted All-Stars are all great players, and I could absolutely see this being the lineup.\n",
    "\n",
    "Some notable snubs are Ben Simmons, LaMarcus Aldridge, and Jimmy Butler. It's also strange that Russel Westbrook is so low, considering that he is averaging a triple double.\n",
    "\n",
    "### Future Work\n",
    " 1. Tweeking the Model\n",
    "     - Using a different combination of parameters, including advanced stats such as Player Efficiency Rating (PER), or Win Shares\n",
    "     - Creating more of our own statistics\n",
    "          - For example, I created a statistic for games started percentage by dividing games started by total games, but the model became less accurate.\n",
    " 2. Exploring other ways to make a classifier\n",
    "     - Support Vector Machines\n",
    "     - Random Forest\n",
    "     - XGBoost\n",
    "     - Cross-Validation with 99/1 train/test splits\n",
    " 3. Using more relevant data\n",
    "     - Creating a separate model for guards and the frontcourt\n",
    "     - Creating a separate model for East vs. West\n",
    "     - Only using data from the 2017-2018 season before the All-Star Game\n",
    " 4. Addressing Limitations\n",
    "     - It is entirely possible that, although we removed free throw and 3 pointer statistics, there is some obscure combination of parameters which could produce a better model\n",
    "     - Each time I tested the accuracy, it would there would be fluctuations of +/- 1%\n",
    "         - I tried to address this by running it 1,000 times, but they still occur\n",
    "         - Increasing that number would make the run time of the notebook unreasonable, but in the future could be pursued"
   ]
  },
  {
   "cell_type": "code",
   "execution_count": null,
   "metadata": {
    "collapsed": true
   },
   "outputs": [],
   "source": []
  }
 ],
 "metadata": {
  "kernelspec": {
   "display_name": "Python 2",
   "language": "python",
   "name": "python2"
  },
  "language_info": {
   "codemirror_mode": {
    "name": "ipython",
    "version": 2
   },
   "file_extension": ".py",
   "mimetype": "text/x-python",
   "name": "python",
   "nbconvert_exporter": "python",
   "pygments_lexer": "ipython2",
   "version": "2.7.14"
  }
 },
 "nbformat": 4,
 "nbformat_minor": 2
}
